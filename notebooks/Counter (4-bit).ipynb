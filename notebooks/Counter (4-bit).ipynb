{
 "cells": [
  {
   "cell_type": "code",
   "execution_count": 1,
   "metadata": {},
   "outputs": [
    {
     "name": "stdout",
     "output_type": "stream",
     "text": [
      "import verilog\n",
      "import mantle lattice ice40\n",
      "import mantle lattice mantle40\n"
     ]
    }
   ],
   "source": [
    "from magma import *\n",
    "from mantle.lattice.mantle40 import DefineRegister"
   ]
  },
  {
   "cell_type": "code",
   "execution_count": 2,
   "metadata": {},
   "outputs": [],
   "source": [
    "Reg4 = DefineRegister(4, _type=UInt)\n",
    "\n",
    "class Counter4(Circuit):\n",
    "    name = \"Counter4\"\n",
    "    IO = [\"count\", Out(UInt(4))] + ClockInterface()\n",
    "    @classmethod\n",
    "    def definition(io):\n",
    "        reg4 = Reg4()\n",
    "        count = reg4.O + int2seq(1, 4)\n",
    "        wire(count, reg4.I)\n",
    "        wire(reg4.O, io.count)\n",
    "        wireclock(io, reg4)"
   ]
  },
  {
   "cell_type": "code",
   "execution_count": 3,
   "metadata": {},
   "outputs": [],
   "source": [
    "from magma.python_simulator import PythonSimulator\n",
    "from magma.scope import Scope\n",
    "\n",
    "simulator = PythonSimulator(Counter4)\n",
    "scope = Scope()\n",
    "O0 = []\n",
    "O1 = []\n",
    "O2 = []\n",
    "O3 = []\n",
    "for i in range(20):\n",
    "    for j in range(2):\n",
    "        simulator.step()\n",
    "        simulator.evaluate()\n",
    "        O = simulator.get_value(Counter4.count, scope)\n",
    "        O0.append(O[0])\n",
    "        O1.append(O[1])\n",
    "        O2.append(O[2])\n",
    "        O3.append(O[3])"
   ]
  },
  {
   "cell_type": "code",
   "execution_count": 4,
   "metadata": {},
   "outputs": [
    {
     "data": {
      "image/png": "[encoded data removed]",
      "text/plain": [
       "<matplotlib.figure.Figure at 0x11211d4e0>"
      ]
     },
     "metadata": {},
     "output_type": "display_data"
    }
   ],
   "source": [
    "import matplotlib.pyplot as plt\n",
    "import numpy as np\n",
    "\n",
    "n = len(O1)//2\n",
    "t = np.repeat(0.5*np.arange(2*n+1),2)[1:-1]\n",
    "clock = np.tile(np.array([1,1,0,0]),n)\n",
    "\n",
    "O0 = np.repeat(np.array(O0),2)\n",
    "O1 = np.repeat(np.array(O1),2)\n",
    "O2 = np.repeat(np.array(O2),2)\n",
    "O3 = np.repeat(np.array(O3),2)\n",
    "\n",
    "plt.text(-1.5, 4.25, 'clock')\n",
    "plt.plot(t, 0.5*clock+4, 'r', linewidth = 2)\n",
    "plt.text(-1.5, 3.25, 'O[0]')\n",
    "plt.plot(t, 0.5*O0+3,    'r', linewidth = 2)\n",
    "plt.text(-1.5, 2.25, 'O[1]')\n",
    "plt.plot(t, 0.5*O1+2,    'r', linewidth = 2)\n",
    "plt.text(-1.5, 1.25, 'O[2]')\n",
    "plt.plot(t, 0.5*O2+1,    'r', linewidth = 2)\n",
    "plt.text(-1.5, 0.25, 'O[3]')\n",
    "plt.plot(t, 0.5*O3,    'r', linewidth = 2)\n",
    "plt.xlim([0,n])\n",
    "plt.ylim([0,5])\n",
    "\n",
    "plt.gca().axis('off')\n",
    "plt.show()"
   ]
  },
  {
   "cell_type": "code",
   "execution_count": null,
   "metadata": {
    "collapsed": true
   },
   "outputs": [],
   "source": []
  }
 ],
 "metadata": {
  "kernelspec": {
   "display_name": "Python 3",
   "language": "python",
   "name": "python3"
  },
  "language_info": {
   "codemirror_mode": {
    "name": "ipython",
    "version": 3
   },
   "file_extension": ".py",
   "mimetype": "text/x-python",
   "name": "python",
   "nbconvert_exporter": "python",
   "pygments_lexer": "ipython3",
   "version": "3.6.2"
  }
 },
 "nbformat": 4,
 "nbformat_minor": 2
}
