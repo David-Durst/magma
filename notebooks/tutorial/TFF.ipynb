{
 "cells": [
  {
   "cell_type": "code",
   "execution_count": 1,
   "metadata": {},
   "outputs": [
    {
     "name": "stdout",
     "output_type": "stream",
     "text": [
      "import mantle lattice ice40\n",
      "import mantle lattice mantle40\n",
      "main = DefineCircuit(\"main\", \"I\", In(Bit), \"O\", Out(Bit), \"CLK\", In(Bit))\n",
      "inst0 = SB_DFF()\n",
      "inst1 = coreir_not(WIDTH=1)\n",
      "inst2 = coreir_and(WIDTH=1)\n",
      "wire(main.CLK, inst0.C)\n",
      "wire(inst2.out, inst0.D)\n",
      "wire(inst0.Q, inst1.in)\n",
      "wire(main.I, inst2.in0)\n",
      "wire(inst1.out, inst2.in1)\n",
      "wire(inst0.Q, main.O)\n",
      "EndCircuit()\n"
     ]
    }
   ],
   "source": [
    "import os\n",
    "os.environ['MANTLE_TARGET'] = 'ice40'\n",
    "from magma import DefineCircuit, EndDefine, In, Out, Bit, wire\n",
    "from mantle import DFF\n",
    "\n",
    "main = DefineCircuit('main', 'I', In(Bit), 'O', Out(Bit), 'CLK', In(Bit))\n",
    "\n",
    "# create ff holding state first\n",
    "ff = DFF()\n",
    "\n",
    "# compute the next state\n",
    "ff( main.I & ~ff.O )\n",
    "\n",
    "wire(ff.O, main.O)\n",
    "wire(main.CLK, ff.CLK)\n",
    "\n",
    "EndDefine()\n",
    "\n",
    "print(repr(main))"
   ]
  }
 ],
 "metadata": {
  "kernelspec": {
   "display_name": "Python 3",
   "language": "python",
   "name": "python3"
  },
  "language_info": {
   "codemirror_mode": {
    "name": "ipython",
    "version": 3
   },
   "file_extension": ".py",
   "mimetype": "text/x-python",
   "name": "python",
   "nbconvert_exporter": "python",
   "pygments_lexer": "ipython3",
   "version": "3.6.2"
  }
 },
 "nbformat": 4,
 "nbformat_minor": 2
}
