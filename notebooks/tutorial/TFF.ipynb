{
 "cells": [
  {
   "cell_type": "code",
   "execution_count": 1,
   "metadata": {},
   "outputs": [
    {
     "name": "stdout",
     "output_type": "stream",
     "text": [
      "import mantle lattice ice40\n",
      "import mantle lattice mantle40\n"
     ]
    }
   ],
   "source": [
    "import os\n",
    "os.environ['MANTLE_TARGET'] = 'ice40'\n",
    "import magma as m\n",
    "from mantle import DFF\n",
    "\n",
    "main = m.DefineCircuit('main', 'I', m.In(m.Bit), 'O', m.Out(m.Bit), 'CLK', m.In(m.Bit))\n",
    "\n",
    "# create ff holding state first\n",
    "ff = DFF()\n",
    "\n",
    "# compute the next state\n",
    "ff( main.I ^ ff.O )\n",
    "\n",
    "m.wire(ff.O, main.O)\n",
    "m.wire(main.CLK, ff.CLK)\n",
    "\n",
    "m.EndDefine()"
   ]
  },
  {
   "cell_type": "code",
   "execution_count": 2,
   "metadata": {},
   "outputs": [],
   "source": [
    "from magma.python_simulator import PythonSimulator\n",
    "from magma.scope import Scope\n",
    "\n",
    "simulator = PythonSimulator(main)\n",
    "scope = Scope()\n",
    "inputs = [1, 1, 1, 0, 0, 0, 1, 0, 1, 0, 0, 1, 1, 1]\n",
    "waveforms = []\n",
    "for i in range(len(inputs)):\n",
    "    simulator.set_value(main.I, scope, bool(inputs[i]))\n",
    "    for j in range(2):\n",
    "        simulator.step()\n",
    "        simulator.evaluate()\n",
    "        clk = simulator.get_value(main.CLK, scope)\n",
    "        O = simulator.get_value(main.O, scope)\n",
    "        waveforms.append([O, bool(inputs[i]), clk])"
   ]
  },
  {
   "cell_type": "code",
   "execution_count": 3,
   "metadata": {},
   "outputs": [
    {
     "data": {
      "image/png": "[encoded data removed]",
      "text/plain": [
       "<matplotlib.figure.Figure at 0x10d3f0240>"
      ]
     },
     "metadata": {},
     "output_type": "display_data"
    }
   ],
   "source": [
    "from magma.waveform import waveform\n",
    "\n",
    "waveform(waveforms, [\"O\", \"I\", \"CLK\"])"
   ]
  },
  {
   "cell_type": "code",
   "execution_count": 4,
   "metadata": {},
   "outputs": [
    {
     "name": "stdout",
     "output_type": "stream",
     "text": [
      "compiling main\n"
     ]
    }
   ],
   "source": [
    "m.compile(\"build/tff\", main, include_coreir=True)"
   ]
  },
  {
   "cell_type": "code",
   "execution_count": 5,
   "metadata": {},
   "outputs": [
    {
     "name": "stdout",
     "output_type": "stream",
     "text": [
      "`include \"/Users/lenny/repos/magma/magma/backend/coreir_prims.v\"\n",
      "module main (input  I, output  O, input  CLK);\n",
      "wire  inst0_Q;\n",
      "wire  inst1_out;\n",
      "SB_DFF inst0 (.C(CLK), .D(inst1_out), .Q(inst0_Q));\n",
      "coreir_bitxor inst1 (.in0(I), .in1(inst0_Q), .out(inst1_out));\n",
      "assign O = inst0_Q;\n",
      "endmodule\n",
      "\n",
      "\n"
     ]
    }
   ],
   "source": [
    "with open(\"build/tff.v\", \"r\") as tff_verilog:\n",
    "    print(tff_verilog.read())"
   ]
  }
 ],
 "metadata": {
  "kernelspec": {
   "display_name": "Python 3",
   "language": "python",
   "name": "python3"
  },
  "language_info": {
   "codemirror_mode": {
    "name": "ipython",
    "version": 3
   },
   "file_extension": ".py",
   "mimetype": "text/x-python",
   "name": "python",
   "nbconvert_exporter": "python",
   "pygments_lexer": "ipython3",
   "version": "3.6.2"
  }
 },
 "nbformat": 4,
 "nbformat_minor": 2
}
