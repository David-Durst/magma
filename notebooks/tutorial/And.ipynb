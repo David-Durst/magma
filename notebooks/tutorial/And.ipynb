{
 "cells": [
  {
   "cell_type": "markdown",
   "metadata": {},
   "source": [
    "The fundamental abstraction in Magma is a `Circuit`. `Circuits` are represented as python classes. Instancing a `Circuit` creates s hardware functional unit.\n",
    "\n",
    "Let's show an example that creates a 2-input and gate."
   ]
  },
  {
   "cell_type": "code",
   "execution_count": 1,
   "metadata": {},
   "outputs": [
    {
     "name": "stdout",
     "output_type": "stream",
     "text": [
      "import verilog\n"
     ]
    }
   ],
   "source": [
    "from magma import wire\n",
    "from mantle import DefineAnd, And\n",
    "\n",
    "And2 = DefineAnd(2)\n",
    "and2 = And2"
   ]
  },
  {
   "cell_type": "markdown",
   "metadata": {},
   "source": [
    "The first line of code create a `Circuit` representing a 2-input and gate. The second line creates an instance of the 2-input and gate.\n",
    "\n",
    "By convention, we also allow the following shorter way to do that same thing."
   ]
  },
  {
   "cell_type": "code",
   "execution_count": null,
   "metadata": {
    "collapsed": true
   },
   "outputs": [],
   "source": [
    "and2 = And(2)"
   ]
  },
  {
   "cell_type": "markdown",
   "metadata": {},
   "source": [
    "In this example, `DefineAnd` and `And` take a parameter (in this case 2). These functions can create `Circuit`s with any number of inputs."
   ]
  },
  {
   "cell_type": "code",
   "execution_count": 2,
   "metadata": {
    "scrolled": true
   },
   "outputs": [
    {
     "name": "stdout",
     "output_type": "stream",
     "text": [
      "And2 = DefineCircuit(\"And2\", \"I0\", In(Bit), \"I1\", In(Bit), \"O\", Out(Bit))\n",
      "inst0 = and()\n",
      "wire(And2.I0, inst0[1])\n",
      "wire(And2.I1, inst0[2])\n",
      "wire(inst0[0], And2.O)\n",
      "EndCircuit()\n"
     ]
    }
   ],
   "source": [
    "print(repr(And2))"
   ]
  },
  {
   "cell_type": "markdown",
   "metadata": {},
   "source": [
    "Circuits are roughly equivalent to verilog modules. It is east to compile a `Circuit` into verilog."
   ]
  },
  {
   "cell_type": "code",
   "execution_count": 3,
   "metadata": {},
   "outputs": [
    {
     "name": "stdout",
     "output_type": "stream",
     "text": [
      "compiling And2\n",
      "module And2 (input  I0, input  I1, output  O);\n",
      "wire  inst0_0;\n",
      "and inst0 (inst0_0, I0, I1);\n",
      "assign O = inst0_0;\n",
      "endmodule\n",
      "\n",
      "\n"
     ]
    }
   ],
   "source": [
    "from magma.backend.verilog import compile\n",
    "\n",
    "print(compile(And2))"
   ]
  }
 ],
 "metadata": {
  "kernelspec": {
   "display_name": "Python 3",
   "language": "python",
   "name": "python3"
  },
  "language_info": {
   "codemirror_mode": {
    "name": "ipython",
    "version": 3
   },
   "file_extension": ".py",
   "mimetype": "text/x-python",
   "name": "python",
   "nbconvert_exporter": "python",
   "pygments_lexer": "ipython3",
   "version": "3.6.2"
  }
 },
 "nbformat": 4,
 "nbformat_minor": 2
}
