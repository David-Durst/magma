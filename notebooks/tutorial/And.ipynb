{
 "cells": [
  {
   "cell_type": "markdown",
   "metadata": {},
   "source": [
    "Magma programs create circuit instances and then wire them together."
   ]
  },
  {
   "cell_type": "code",
   "execution_count": 1,
   "metadata": {},
   "outputs": [
    {
     "name": "stdout",
     "output_type": "stream",
     "text": [
      "import verilog\n"
     ]
    }
   ],
   "source": [
    "from magma import wire\n",
    "from mantle import And\n",
    "\n",
    "and2 = And(2)\n",
    "And2 = type(and2)"
   ]
  },
  {
   "cell_type": "markdown",
   "metadata": {},
   "source": [
    "The above code fragment creates a 2-input And gate. ```and2``` is an instance of a Circuit. To see the definition of the and gate, print the representation of the type of and2."
   ]
  },
  {
   "cell_type": "code",
   "execution_count": 2,
   "metadata": {},
   "outputs": [
    {
     "name": "stdout",
     "output_type": "stream",
     "text": [
      "compiling And2\n",
      "module And2 (input  I0, input  I1, output  O);\n",
      "wire  inst0_0;\n",
      "and inst0 (inst0_0, I0, I1);\n",
      "assign O = inst0_0;\n",
      "endmodule\n",
      "\n",
      "\n"
     ]
    }
   ],
   "source": [
    "from magma.backend.verilog import compile\n",
    "\n",
    "print(compile(And2))"
   ]
  },
  {
   "cell_type": "code",
   "execution_count": 3,
   "metadata": {},
   "outputs": [
    {
     "name": "stdout",
     "output_type": "stream",
     "text": [
      "And2 = DefineCircuit(\"And2\", \"I0\", In(Bit), \"I1\", In(Bit), \"O\", Out(Bit))  # /Users/hanrahan/git/mantle/mantle/verilog/logic.py 31\n",
      "inst0 = and()  # /Users/hanrahan/git/mantle/mantle/verilog/gates.py 23\n",
      "wire(And2.I0, inst0[1])  # /Users/hanrahan/git/mantle/mantle/verilog/logic.py 37\n",
      "wire(And2.I1, inst0[2])  # /Users/hanrahan/git/mantle/mantle/verilog/logic.py 37\n",
      "wire(inst0[0], And2.O)  # /Users/hanrahan/git/mantle/mantle/verilog/logic.py 37\n",
      "EndCircuit()  # /Users/hanrahan/git/mantle/mantle/verilog/logic.py 33\n",
      "\n"
     ]
    }
   ],
   "source": [
    "print(repr(And2))"
   ]
  }
 ],
 "metadata": {
  "kernelspec": {
   "display_name": "Python 3",
   "language": "python",
   "name": "python3"
  },
  "language_info": {
   "codemirror_mode": {
    "name": "ipython",
    "version": 3
   },
   "file_extension": ".py",
   "mimetype": "text/x-python",
   "name": "python",
   "nbconvert_exporter": "python",
   "pygments_lexer": "ipython3",
   "version": "3.6.2"
  }
 },
 "nbformat": 4,
 "nbformat_minor": 2
}
