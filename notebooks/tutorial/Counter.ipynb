{
 "cells": [
  {
   "cell_type": "code",
   "execution_count": 1,
   "metadata": {
    "collapsed": true
   },
   "outputs": [],
   "source": [
    "import magma as m\n",
    "from magma.bitutils import int2seq\n",
    "from magma.primitives import DefineRegister"
   ]
  },
  {
   "cell_type": "markdown",
   "metadata": {},
   "source": [
    "To implement a counter we can use the `DefineRegister` primitive and the `+` operator for `m.UInt` instances."
   ]
  },
  {
   "cell_type": "code",
   "execution_count": 2,
   "metadata": {
    "collapsed": true
   },
   "outputs": [],
   "source": [
    "Reg4 = DefineRegister(4, T=m.UInt)\n",
    "\n",
    "class Counter4(m.Circuit):\n",
    "    name = \"Counter4\"\n",
    "    IO = [\"count\", m.Out(m.UInt(4))] + m.ClockInterface()\n",
    "    @classmethod\n",
    "    def definition(io):\n",
    "        reg4 = Reg4()\n",
    "        count = reg4.out + int2seq(1, 4)\n",
    "        m.wire(count, getattr(reg4, \"in\"))\n",
    "        m.wire(reg4.out, io.count)\n",
    "        m.wireclock(io, reg4)"
   ]
  },
  {
   "cell_type": "markdown",
   "metadata": {},
   "source": [
    "We use the Python simulator to generate a waveform of our circuit.\n",
    "* `step` steps the clock\n",
    "* `evaluate` evaluates the circuit\n",
    "* `get_value` returns the value of the circuit ports"
   ]
  },
  {
   "cell_type": "code",
   "execution_count": 3,
   "metadata": {
    "collapsed": true
   },
   "outputs": [],
   "source": [
    "from magma.python_simulator import PythonSimulator\n",
    "from magma.scope import Scope\n",
    "\n",
    "simulator = PythonSimulator(Counter4)\n",
    "scope = Scope()\n",
    "waveforms = []\n",
    "for i in range(18):\n",
    "    for j in range(2):\n",
    "        simulator.step()\n",
    "        simulator.evaluate()\n",
    "        clk = simulator.get_value(Counter4.CLK, scope)\n",
    "        O = simulator.get_value(Counter4.count, scope)\n",
    "        waveforms.append(O + [clk])"
   ]
  },
  {
   "cell_type": "markdown",
   "metadata": {},
   "source": [
    "magma provides a helper function to plot waveform diagrams"
   ]
  },
  {
   "cell_type": "code",
   "execution_count": 4,
   "metadata": {
    "scrolled": true
   },
   "outputs": [
    {
     "data": {
      "image/png": "[encoded data removed]",
      "text/plain": [
       "<matplotlib.figure.Figure at 0x10ba2c390>"
      ]
     },
     "metadata": {},
     "output_type": "display_data"
    }
   ],
   "source": [
    "from magma.waveform import waveform\n",
    "\n",
    "waveform(waveforms, [\"O[0]\", \"O[1]\", \"O[2]\", \"O[3]\", \"CLK\"])"
   ]
  },
  {
   "cell_type": "markdown",
   "metadata": {},
   "source": [
    "We can also inspect the generated verilog for our counter."
   ]
  },
  {
   "cell_type": "code",
   "execution_count": 5,
   "metadata": {},
   "outputs": [
    {
     "name": "stdout",
     "output_type": "stream",
     "text": [
      "compiling Counter4\n"
     ]
    }
   ],
   "source": [
    "m.compile(\"build/counter\", Counter4, include_coreir=True)"
   ]
  },
  {
   "cell_type": "code",
   "execution_count": 6,
   "metadata": {},
   "outputs": [
    {
     "name": "stdout",
     "output_type": "stream",
     "text": [
      "`include \"/Users/lenny/repos/magma/magma/backend/coreir_prims.v\"\n",
      "module Counter4 (output [3:0] count, input  CLK);\n",
      "wire [3:0] inst0_out;\n",
      "wire [3:0] inst1_out;\n",
      "coreir_reg_P #(.width(4)) inst0 (.in(inst1_out), .clk(CLK), .out(inst0_out));\n",
      "coreir_add #(.width(4)) inst1 (.in0(inst0_out), .in1({1'b0,1'b0,1'b0,1'b1}), .out(inst1_out));\n",
      "assign count = inst0_out;\n",
      "endmodule\n",
      "\n",
      "\n"
     ]
    }
   ],
   "source": [
    "with open(\"build/counter.v\", \"r\") as counter_verilog:\n",
    "    print(counter_verilog.read())"
   ]
  }
 ],
 "metadata": {
  "kernelspec": {
   "display_name": "Python 3",
   "language": "python",
   "name": "python3"
  },
  "language_info": {
   "codemirror_mode": {
    "name": "ipython",
    "version": 3
   },
   "file_extension": ".py",
   "mimetype": "text/x-python",
   "name": "python",
   "nbconvert_exporter": "python",
   "pygments_lexer": "ipython3",
   "version": "3.6.2"
  }
 },
 "nbformat": 4,
 "nbformat_minor": 2
}
