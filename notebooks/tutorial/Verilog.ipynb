{
 "cells": [
  {
   "cell_type": "code",
   "execution_count": 1,
   "metadata": {},
   "outputs": [
    {
     "name": "stdout",
     "output_type": "stream",
     "text": [
      "CSA_4\n",
      "CSA_4 = DeclareCircuit(\"CSA_4\", \"a\", Array(4,In(Bit)), \"b\", Array(4,In(Bit)), \"c\", Array(4,In(Bit)), \"s\", Array(4,Out(Bit)), \"co\", Array(4,Out(Bit)))\n"
     ]
    }
   ],
   "source": [
    "from magma import DeclareFromVerilog\n",
    "\n",
    "source = '''\\\n",
    "module CSA_4 ( input [3:0] a,b,c, output [3:0] s, co);\n",
    "   assign s = a ^ b ^c;\n",
    "   assign co = a&b | b&c | a&c;\n",
    "endmodule'''\n",
    "\n",
    "CSA4 = DeclareFromVerilog(source)[0]\n",
    "\n",
    "print(str(CSA4))\n",
    "print(repr(CSA4))"
   ]
  },
  {
   "cell_type": "code",
   "execution_count": 2,
   "metadata": {},
   "outputs": [
    {
     "name": "stdout",
     "output_type": "stream",
     "text": [
      "CSA4\n"
     ]
    },
    {
     "ename": "AttributeError",
     "evalue": "type object 'CSA4' has no attribute 'intwrface'",
     "output_type": "error",
     "traceback": [
      "\u001b[0;31m---------------------------------------------------------------------------\u001b[0m",
      "\u001b[0;31mAttributeError\u001b[0m                            Traceback (most recent call last)",
      "\u001b[0;32m<ipython-input-2-fc962e3327ea>\u001b[0m in \u001b[0;36m<module>\u001b[0;34m()\u001b[0m\n\u001b[1;32m      9\u001b[0m \u001b[0;34m\u001b[0m\u001b[0m\n\u001b[1;32m     10\u001b[0m \u001b[0mprint\u001b[0m\u001b[0;34m(\u001b[0m\u001b[0mstr\u001b[0m\u001b[0;34m(\u001b[0m\u001b[0mCSA4\u001b[0m\u001b[0;34m)\u001b[0m\u001b[0;34m)\u001b[0m\u001b[0;34m\u001b[0m\u001b[0m\n\u001b[0;32m---> 11\u001b[0;31m \u001b[0mprint\u001b[0m\u001b[0;34m(\u001b[0m\u001b[0mrepr\u001b[0m\u001b[0;34m(\u001b[0m\u001b[0mCSA4\u001b[0m\u001b[0;34m.\u001b[0m\u001b[0mintwrface\u001b[0m\u001b[0;34m)\u001b[0m\u001b[0;34m)\u001b[0m\u001b[0;34m\u001b[0m\u001b[0m\n\u001b[0m\u001b[1;32m     12\u001b[0m \u001b[0mprint\u001b[0m\u001b[0;34m(\u001b[0m\u001b[0mCSA4\u001b[0m\u001b[0;34m.\u001b[0m\u001b[0mverilogFile\u001b[0m\u001b[0;34m)\u001b[0m\u001b[0;34m\u001b[0m\u001b[0m\n",
      "\u001b[0;31mAttributeError\u001b[0m: type object 'CSA4' has no attribute 'intwrface'"
     ]
    }
   ],
   "source": [
    "from magma import DefineFromTemplatedVerilog\n",
    "\n",
    "source = '''\\\n",
    "module CSA${N} ( input [${N-1}:0] a,b,c, output [${N-1}:0] s, co );\n",
    "   assign s = a ^ b ^c;\n",
    "   assign co = a&b | b&c | a&c;\n",
    "endmodule'''\n",
    "\n",
    "CSA4 = DefineFromTemplatedVerilog(source, **dict(N=4))[0]\n",
    "\n",
    "print(str(CSA4))\n",
    "print(repr(CSA4.intwrface))\n",
    "print(CSA4.verilogFile)"
   ]
  }
 ],
 "metadata": {
  "kernelspec": {
   "display_name": "Python 3",
   "language": "python",
   "name": "python3"
  },
  "language_info": {
   "codemirror_mode": {
    "name": "ipython",
    "version": 3
   },
   "file_extension": ".py",
   "mimetype": "text/x-python",
   "name": "python",
   "nbconvert_exporter": "python",
   "pygments_lexer": "ipython3",
   "version": "3.6.2"
  }
 },
 "nbformat": 4,
 "nbformat_minor": 2
}
