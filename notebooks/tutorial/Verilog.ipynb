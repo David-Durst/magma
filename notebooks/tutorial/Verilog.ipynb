{
 "cells": [
  {
   "cell_type": "code",
   "execution_count": 1,
   "metadata": {},
   "outputs": [
    {
     "name": "stdout",
     "output_type": "stream",
     "text": [
      "CSA_4\n",
      "CSA_4 = DeclareCircuit(\"CSA_4\", \"a\", Array(4,In(Bit)), \"b\", Array(4,In(Bit)), \"c\", Array(4,In(Bit)), \"s\", Array(4,Out(Bit)), \"co\", Array(4,Out(Bit)))\n"
     ]
    }
   ],
   "source": [
    "from magma import DeclareFromVerilog\n",
    "\n",
    "source = '''\\\n",
    "module CSA_4 ( input [3:0] a,b,c, output [3:0] s, co);\n",
    "   assign s = a ^ b ^c;\n",
    "   assign co = a&b | b&c | a&c;\n",
    "endmodule'''\n",
    "\n",
    "CSA4 = DeclareFromVerilog(source)[0]\n",
    "\n",
    "print(str(CSA4))\n",
    "print(repr(CSA4))"
   ]
  },
  {
   "cell_type": "code",
   "execution_count": 2,
   "metadata": {},
   "outputs": [
    {
     "name": "stdout",
     "output_type": "stream",
     "text": [
      "CSA4\n",
      "wire(None, CSA4.s)\n",
      "wire(None, CSA4.co)\n",
      "\n",
      "module CSA4 ( input [3:0] a,b,c, output [3:0] s, co );\n",
      "   assign s = a ^ b ^c;\n",
      "   assign co = a&b | b&c | a&c;\n",
      "endmodule\n"
     ]
    }
   ],
   "source": [
    "from magma import DefineFromTemplatedVerilog\n",
    "\n",
    "source = '''\\\n",
    "module CSA${N} ( input [${N-1}:0] a,b,c, output [${N-1}:0] s, co );\n",
    "   assign s = a ^ b ^c;\n",
    "   assign co = a&b | b&c | a&c;\n",
    "endmodule'''\n",
    "\n",
    "CSA4 = DefineFromTemplatedVerilog(source, **dict(N=4))[0]\n",
    "\n",
    "print(str(CSA4))\n",
    "print(repr(CSA4.interface))\n",
    "print(CSA4.verilogFile)"
   ]
  }
 ],
 "metadata": {
  "kernelspec": {
   "display_name": "Python 3",
   "language": "python",
   "name": "python3"
  },
  "language_info": {
   "codemirror_mode": {
    "name": "ipython",
    "version": 3
   },
   "file_extension": ".py",
   "mimetype": "text/x-python",
   "name": "python",
   "nbconvert_exporter": "python",
   "pygments_lexer": "ipython3",
   "version": "3.6.2"
  }
 },
 "nbformat": 4,
 "nbformat_minor": 2
}
