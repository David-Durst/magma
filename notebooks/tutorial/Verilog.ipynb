{
 "cells": [
  {
   "cell_type": "code",
   "execution_count": null,
   "metadata": {
    "collapsed": true
   },
   "outputs": [],
   "source": [
    "from magma import DeclareFromVerilog\n",
    "\n",
    "source = '''\\\n",
    "module CSA_4 ( input [3:0] a,b,c, output [3:0] s, co);\n",
    "   assign s = a ^ b ^c;\n",
    "   assign co = a&b | b&c | a&c;\n",
    "endmodule'''\n",
    "\n",
    "module = DeclareFromVerilog(source)[0]\n",
    "\n",
    "print(str(module))\n",
    "print(repr(module))"
   ]
  }
 ],
 "metadata": {
  "kernelspec": {
   "display_name": "Python 3",
   "language": "python",
   "name": "python3"
  },
  "language_info": {
   "codemirror_mode": {
    "name": "ipython",
    "version": 3
   },
   "file_extension": ".py",
   "mimetype": "text/x-python",
   "name": "python",
   "nbconvert_exporter": "python",
   "pygments_lexer": "ipython3",
   "version": "3.6.2"
  }
 },
 "nbformat": 4,
 "nbformat_minor": 2
}
