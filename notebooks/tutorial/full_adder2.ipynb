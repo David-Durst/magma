{
 "cells": [
  {
   "cell_type": "code",
   "execution_count": 1,
   "metadata": {},
   "outputs": [],
   "source": [
    "from magma import *\n",
    "\n",
    "class FullAdder(Circuit):\n",
    "    name = \"FullAdder\"\n",
    "    IO = [\"a\", In(Bit), \"b\", In(Bit), \"cin\", In(Bit), \"out\", Out(Bit), \"cout\", Out(Bit)]\n",
    "    @classmethod\n",
    "    def definition(io):\n",
    "        # Generate the sum\n",
    "        sum_ = xor(xor(io.a, io.b), io.cin)\n",
    "        wire(sum_, io.out)\n",
    "        # Generate the carry\n",
    "        ab = and_(io.a, io.b)\n",
    "        bc = and_(io.b, io.cin)\n",
    "        ca = and_(io.cin, io.a)\n",
    "        carry = or_(or_(ab, bc), bc)\n",
    "        wire(carry, io.cout)"
   ]
  },
  {
   "cell_type": "code",
   "execution_count": 2,
   "metadata": {},
   "outputs": [
    {
     "name": "stdout",
     "output_type": "stream",
     "text": [
      "compiling FullAdder\n",
      "module FullAdder (input  a, input  b, input  cin, output  out, output  cout);\n",
      "wire  inst0_out;\n",
      "wire  inst1_out;\n",
      "wire  inst2_out;\n",
      "wire  inst3_out;\n",
      "wire  inst4_out;\n",
      "wire  inst5_out;\n",
      "wire  inst6_out;\n",
      "coreir_xor #(.WIDTH(1)) inst0 (.in0(a), .in1(b), .out(inst0_out));\n",
      "coreir_xor #(.WIDTH(1)) inst1 (.in0(inst0_out), .in1(cin), .out(inst1_out));\n",
      "coreir_and #(.WIDTH(1)) inst2 (.in0(a), .in1(b), .out(inst2_out));\n",
      "coreir_and #(.WIDTH(1)) inst3 (.in0(b), .in1(cin), .out(inst3_out));\n",
      "coreir_and #(.WIDTH(1)) inst4 (.in0(cin), .in1(a), .out(inst4_out));\n",
      "coreir_or #(.WIDTH(1)) inst5 (.in0(inst2_out), .in1(inst3_out), .out(inst5_out));\n",
      "coreir_or #(.WIDTH(1)) inst6 (.in0(inst5_out), .in1(inst3_out), .out(inst6_out));\n",
      "assign out = inst1_out;\n",
      "assign cout = inst6_out;\n",
      "endmodule\n",
      "\n",
      "\n"
     ]
    }
   ],
   "source": [
    "from magma.backend.verilog import compile as compile_verilog\n",
    "\n",
    "#print(repr(FullAdder))\n",
    "print(compile_verilog(FullAdder))"
   ]
  },
  {
   "cell_type": "code",
   "execution_count": 3,
   "metadata": {},
   "outputs": [
    {
     "name": "stdout",
     "output_type": "stream",
     "text": [
      " = FullAdder()  # <ipython-input-3-37b90d821114> 1\n",
      ".a\n"
     ]
    }
   ],
   "source": [
    "fa = FullAdder()\n",
    "print(repr(fa))\n",
    "print(repr(fa.a))"
   ]
  }
 ],
 "metadata": {
  "kernelspec": {
   "display_name": "Python 3",
   "language": "python",
   "name": "python3"
  },
  "language_info": {
   "codemirror_mode": {
    "name": "ipython",
    "version": 3
   },
   "file_extension": ".py",
   "mimetype": "text/x-python",
   "name": "python",
   "nbconvert_exporter": "python",
   "pygments_lexer": "ipython3",
   "version": "3.6.2"
  }
 },
 "nbformat": 4,
 "nbformat_minor": 2
}
