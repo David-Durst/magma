{
 "cells": [
  {
   "cell_type": "code",
   "execution_count": 1,
   "metadata": {
    "collapsed": true
   },
   "outputs": [],
   "source": [
    "from magma import *\n",
    "\n",
    "class FullAdder(Circuit):\n",
    "    name = \"FullAdder\"\n",
    "    IO = [\"a\", In(Bit), \"b\", In(Bit), \"cin\", In(Bit), \"out\", Out(Bit), \"cout\", Out(Bit)]\n",
    "    @classmethod\n",
    "    def definition(io):\n",
    "        # Generate the sum\n",
    "        _sum = io.a ^ io.b ^ io.cin\n",
    "        wire(_sum, io.out)\n",
    "        # Generate the carry\n",
    "        carry = (io.a & io.b) | (io.b & io.cin) | (io.a & io.cin)\n",
    "        wire(carry, io.cout)\n"
   ]
  },
  {
   "cell_type": "code",
   "execution_count": 2,
   "metadata": {},
   "outputs": [
    {
     "name": "stdout",
     "output_type": "stream",
     "text": [
      "compiling FullAdder\n",
      "module FullAdder (input  a, input  b, input  cin, output  out, output  cout);\n",
      "wire  inst0_out;\n",
      "wire  inst1_out;\n",
      "wire  inst2_out;\n",
      "wire  inst3_out;\n",
      "wire  inst4_out;\n",
      "wire  inst5_out;\n",
      "wire  inst6_out;\n",
      "coreir_bitxor inst0 (.in0(a), .in1(b), .out(inst0_out));\n",
      "coreir_bitxor inst1 (.in0(inst0_out), .in1(cin), .out(inst1_out));\n",
      "coreir_bitand inst2 (.in0(a), .in1(b), .out(inst2_out));\n",
      "coreir_bitand inst3 (.in0(b), .in1(cin), .out(inst3_out));\n",
      "coreir_bitor inst4 (.in0(inst2_out), .in1(inst3_out), .out(inst4_out));\n",
      "coreir_bitand inst5 (.in0(a), .in1(cin), .out(inst5_out));\n",
      "coreir_bitor inst6 (.in0(inst4_out), .in1(inst5_out), .out(inst6_out));\n",
      "assign out = inst1_out;\n",
      "assign cout = inst6_out;\n",
      "endmodule\n",
      "\n",
      "\n"
     ]
    }
   ],
   "source": [
    "from magma.backend.verilog import compile as compile_verilog\n",
    "\n",
    "print(compile_verilog(FullAdder))"
   ]
  },
  {
   "cell_type": "code",
   "execution_count": 3,
   "metadata": {},
   "outputs": [
    {
     "name": "stdout",
     "output_type": "stream",
     "text": [
      "Success\n"
     ]
    }
   ],
   "source": [
    "from magma.python_simulator import testvectors\n",
    "\n",
    "full_adder_test_vectors = [\n",
    "    [0, 0, 0, 0, 0],\n",
    "    [0, 0, 1, 1, 0],\n",
    "    [0, 1, 0, 1, 0],\n",
    "    [0, 1, 1, 0, 1],\n",
    "    [1, 0, 0, 1, 0],\n",
    "    [1, 0, 1, 0, 1],\n",
    "    [1, 1, 0, 0, 1],\n",
    "    [1, 1, 1, 1, 1]\n",
    "]\n",
    "\n",
    "tests = testvectors(FullAdder)\n",
    "print( \"Success\" if tests == full_adder_test_vectors else \"Failure\" )"
   ]
  },
  {
   "cell_type": "code",
   "execution_count": 4,
   "metadata": {
    "scrolled": true
   },
   "outputs": [
    {
     "name": "stdout",
     "output_type": "stream",
     "text": [
      "compiling FullAdder\n",
      "module FullAdder (input  a, input  b, input  cin, output  out, output  cout);\n",
      "wire  inst0_out;\n",
      "wire  inst1_out;\n",
      "wire  inst2_out;\n",
      "wire  inst3_out;\n",
      "wire  inst4_out;\n",
      "wire  inst5_out;\n",
      "wire  inst6_out;\n",
      "coreir_bitxor inst0 (.in0(a), .in1(b), .out(inst0_out));\n",
      "coreir_bitxor inst1 (.in0(inst0_out), .in1(cin), .out(inst1_out));\n",
      "coreir_bitand inst2 (.in0(a), .in1(b), .out(inst2_out));\n",
      "coreir_bitand inst3 (.in0(b), .in1(cin), .out(inst3_out));\n",
      "coreir_bitor inst4 (.in0(inst2_out), .in1(inst3_out), .out(inst4_out));\n",
      "coreir_bitand inst5 (.in0(a), .in1(cin), .out(inst5_out));\n",
      "coreir_bitor inst6 (.in0(inst4_out), .in1(inst5_out), .out(inst6_out));\n",
      "assign out = inst1_out;\n",
      "assign cout = inst6_out;\n",
      "endmodule\n",
      "\n",
      "\n"
     ]
    }
   ],
   "source": [
    "class FullAdder2(Circuit):\n",
    "    name = \"FullAdder2\"\n",
    "    IO = [\"a\", In(Bit), \"b\", In(Bit), \"cin\", In(Bit), \"out\", Out(Bit), \"cout\", Out(Bit)]\n",
    "    @classmethod\n",
    "    def definition(io):\n",
    "        # Generate the sum\n",
    "        sum_ = xor(xor(io.a, io.b), io.cin)\n",
    "        wire(sum_, io.out)\n",
    "        # Generate the carry\n",
    "        ab = and_(io.a, io.b)\n",
    "        bc = and_(io.b, io.cin)\n",
    "        ca = and_(io.cin, io.a)\n",
    "        carry = or_(or_(ab, bc), ca)\n",
    "        wire(carry, io.cout)\n",
    "        \n",
    "print(compile_verilog(FullAdder))\n"
   ]
  },
  {
   "cell_type": "code",
   "execution_count": 5,
   "metadata": {},
   "outputs": [
    {
     "name": "stdout",
     "output_type": "stream",
     "text": [
      "Success\n"
     ]
    }
   ],
   "source": [
    "tests = testvectors(FullAdder2)\n",
    "print( \"Success\" if tests == full_adder_test_vectors else \"Failure\" )"
   ]
  },
  {
   "cell_type": "code",
   "execution_count": 6,
   "metadata": {},
   "outputs": [
    {
     "name": "stdout",
     "output_type": "stream",
     "text": [
      " a  b ci  o co\n",
      " 0  0  0  0  0 \n",
      " 0  0  1  1  0 \n",
      " 0  1  0  1  0 \n",
      " 0  1  1  0  1 \n",
      " 1  0  0  1  0 \n",
      " 1  0  1  0  1 \n",
      " 1  1  0  0  1 \n",
      " 1  1  1  1  1 \n"
     ]
    }
   ],
   "source": [
    "print(\" a  b ci  o co\")\n",
    "for test in tests:\n",
    "    for t in test:\n",
    "        print(\"{:2d}\".format(t), end=' ')\n",
    "    print()"
   ]
  },
  {
   "cell_type": "code",
   "execution_count": 7,
   "metadata": {},
   "outputs": [
    {
     "data": {
      "image/png": "[encoded data removed]",
      "text/plain": [
       "<matplotlib.figure.Figure at 0x10bdf9c50>"
      ]
     },
     "metadata": {},
     "output_type": "display_data"
    }
   ],
   "source": [
    "from magma.waveform import waveform\n",
    "\n",
    "waveform(tests, [\"a\", \"b\", \"cin\", \"sum\", \"cout\"])"
   ]
  }
 ],
 "metadata": {
  "kernelspec": {
   "display_name": "Python 3",
   "language": "python",
   "name": "python3"
  },
  "language_info": {
   "codemirror_mode": {
    "name": "ipython",
    "version": 3
   },
   "file_extension": ".py",
   "mimetype": "text/x-python",
   "name": "python",
   "nbconvert_exporter": "python",
   "pygments_lexer": "ipython3",
   "version": "3.6.2"
  }
 },
 "nbformat": 4,
 "nbformat_minor": 2
}
