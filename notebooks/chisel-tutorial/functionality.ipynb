{
 "cells": [
  {
   "cell_type": "code",
   "execution_count": 1,
   "metadata": {},
   "outputs": [],
   "source": [
    "from magma import *"
   ]
  },
  {
   "cell_type": "code",
   "execution_count": 2,
   "metadata": {
    "collapsed": true
   },
   "outputs": [],
   "source": [
    "def clb(a, b, c, d):\n",
    "    return (a & b) | (~c & d)\n",
    "\n",
    "T = UInt(16)\n",
    "class Combinational(Circuit):\n",
    "    name = \"Combinational\"\n",
    "    IO = [\"a\", In(T), \"b\", In(T), \"c\", Out(T)]\n",
    "    @classmethod\n",
    "    def definition(io):\n",
    "        wire(clb(io.a, io.b, io.a, io.b), io.c)"
   ]
  },
  {
   "cell_type": "code",
   "execution_count": 3,
   "metadata": {},
   "outputs": [
    {
     "name": "stdout",
     "output_type": "stream",
     "text": [
      "Success!\n"
     ]
    }
   ],
   "source": [
    "from magma.python_simulator import PythonSimulator\n",
    "from magma.scope import Scope\n",
    "from magma.bit_vector import BitVector\n",
    "\n",
    "simulator = PythonSimulator(Combinational)\n",
    "scope = Scope()\n",
    "a = BitVector(148, num_bits=16)\n",
    "b = BitVector(41, num_bits=16)\n",
    "simulator.set_value(Combinational.a, scope, a.as_bool_list())\n",
    "simulator.set_value(Combinational.b, scope, b.as_bool_list())\n",
    "simulator.evaluate()\n",
    "assert simulator.get_value(Combinational.c, scope) == clb(a, b, a, b).as_bool_list()\n",
    "print(\"Success!\")"
   ]
  },
  {
   "cell_type": "code",
   "execution_count": null,
   "metadata": {
    "collapsed": true
   },
   "outputs": [],
   "source": []
  }
 ],
 "metadata": {
  "kernelspec": {
   "display_name": "Python 3",
   "language": "python",
   "name": "python3"
  },
  "language_info": {
   "codemirror_mode": {
    "name": "ipython",
    "version": 3
   },
   "file_extension": ".py",
   "mimetype": "text/x-python",
   "name": "python",
   "nbconvert_exporter": "python",
   "pygments_lexer": "ipython3",
   "version": "3.6.2"
  }
 },
 "nbformat": 4,
 "nbformat_minor": 2
}
