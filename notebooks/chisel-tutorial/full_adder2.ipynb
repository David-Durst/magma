{
 "cells": [
  {
   "cell_type": "code",
   "execution_count": 1,
   "metadata": {},
   "outputs": [],
   "source": [
    "from magma import *\n",
    "\n",
    "class FullAdder(Circuit):\n",
    "    name = \"FullAdder\"\n",
    "    IO = [\"a\", In(Bit), \"b\", In(Bit), \"cin\", In(Bit), \"out\", Out(Bit), \"cout\", Out(Bit)]\n",
    "    @classmethod\n",
    "    def definition(io):\n",
    "        # Generate the sum\n",
    "        sum_ = xor(io.a, io.b, io.cin)\n",
    "        wire(sum_, io.out)\n",
    "        # Generate the carry\n",
    "        ab = and_(io.a, io.b)\n",
    "        bc = and_(io.b, io.cin)\n",
    "        ca = and_(io.cin, io.a)\n",
    "        carry = or_(ab, bc, ca)\n",
    "        wire(carry, io.cout)"
   ]
  },
  {
   "cell_type": "code",
   "execution_count": 2,
   "metadata": {},
   "outputs": [
    {
     "name": "stdout",
     "output_type": "stream",
     "text": [
      "compiling fold_xor3None\n",
      "compiling fold_or3None\n",
      "compiling FullAdder\n",
      "module fold_xor3None (input  I0, input  I1, input  I2, output  O);\n",
      "wire  inst0_out;\n",
      "wire  inst1_out;\n",
      "coreir_bitxor inst0 (.in0(I0), .in1(I1), .out(inst0_out));\n",
      "coreir_bitxor inst1 (.in0(inst0_out), .in1(I2), .out(inst1_out));\n",
      "assign O = inst1_out;\n",
      "endmodule\n",
      "\n",
      "module fold_or3None (input  I0, input  I1, input  I2, output  O);\n",
      "wire  inst0_out;\n",
      "wire  inst1_out;\n",
      "coreir_bitor inst0 (.in0(I0), .in1(I1), .out(inst0_out));\n",
      "coreir_bitor inst1 (.in0(inst0_out), .in1(I2), .out(inst1_out));\n",
      "assign O = inst1_out;\n",
      "endmodule\n",
      "\n",
      "module FullAdder (input  a, input  b, input  cin, output  out, output  cout);\n",
      "wire  inst0_O;\n",
      "wire  inst1_out;\n",
      "wire  inst2_out;\n",
      "wire  inst3_out;\n",
      "wire  inst4_O;\n",
      "fold_xor3None inst0 (.I0(a), .I1(b), .I2(cin), .O(inst0_O));\n",
      "coreir_bitand inst1 (.in0(a), .in1(b), .out(inst1_out));\n",
      "coreir_bitand inst2 (.in0(b), .in1(cin), .out(inst2_out));\n",
      "coreir_bitand inst3 (.in0(cin), .in1(a), .out(inst3_out));\n",
      "fold_or3None inst4 (.I0(inst1_out), .I1(inst2_out), .I2(inst3_out), .O(inst4_O));\n",
      "assign out = inst0_O;\n",
      "assign cout = inst4_O;\n",
      "endmodule\n",
      "\n",
      "\n"
     ]
    }
   ],
   "source": [
    "from magma.backend.verilog import compile as compile_verilog\n",
    "\n",
    "#print(repr(FullAdder))\n",
    "print(compile_verilog(FullAdder))"
   ]
  },
  {
   "cell_type": "code",
   "execution_count": 3,
   "metadata": {},
   "outputs": [
    {
     "name": "stdout",
     "output_type": "stream",
     "text": [
      " = FullAdder()\n",
      ".a\n"
     ]
    }
   ],
   "source": [
    "fa = FullAdder()\n",
    "print(repr(fa))\n",
    "print(repr(fa.a))"
   ]
  }
 ],
 "metadata": {
  "kernelspec": {
   "display_name": "Python 3",
   "language": "python",
   "name": "python3"
  },
  "language_info": {
   "codemirror_mode": {
    "name": "ipython",
    "version": 3
   },
   "file_extension": ".py",
   "mimetype": "text/x-python",
   "name": "python",
   "nbconvert_exporter": "python",
   "pygments_lexer": "ipython3",
   "version": "3.6.2"
  }
 },
 "nbformat": 4,
 "nbformat_minor": 2
}
