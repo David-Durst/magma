{
 "cells": [
  {
   "cell_type": "code",
   "execution_count": 1,
   "metadata": {
    "collapsed": true
   },
   "outputs": [],
   "source": [
    "from magma import *\n",
    "from magma.primitives import DefineRegister\n",
    "\n",
    "N = 4\n",
    "Register4 = DefineRegister(4, has_reset=True)\n",
    "T = Bits(N)\n",
    "\n",
    "class ResetShiftRegister(Circuit):\n",
    "    name = \"ResetShiftRegister\"\n",
    "    IO = [\"I\", In(T), \"reset\", In(Bit), \"O\", Out(T)] + ClockInterface()\n",
    "    @classmethod\n",
    "    def definition(io):\n",
    "        regs = [Register4().reset(io.reset) for _ in range(4)]\n",
    "        wireclock(io, regs)\n",
    "        wire(io.I, getattr(regs[0], \"in\"))\n",
    "        fold(regs, foldargs={\"in\":\"out\"})\n",
    "        wire(regs[-1].out, io.O)"
   ]
  },
  {
   "cell_type": "code",
   "execution_count": 2,
   "metadata": {},
   "outputs": [
    {
     "name": "stdout",
     "output_type": "stream",
     "text": [
      "compiling ResetShiftRegister\n",
      "module ResetShiftRegister (input [3:0] I, input  reset, output [3:0] O, input  CLK);\n",
      "wire [3:0] inst0_out;\n",
      "wire [3:0] inst1_out;\n",
      "wire [3:0] inst2_out;\n",
      "wire [3:0] inst3_out;\n",
      "coreir_reg_PR #(.width(4)) inst0 (.in(I), .clk(CLK), .out(inst0_out), .rst(reset));\n",
      "coreir_reg_PR #(.width(4)) inst1 (.in(inst0_out), .clk(CLK), .out(inst1_out), .rst(reset));\n",
      "coreir_reg_PR #(.width(4)) inst2 (.in(inst1_out), .clk(CLK), .out(inst2_out), .rst(reset));\n",
      "coreir_reg_PR #(.width(4)) inst3 (.in(inst2_out), .clk(CLK), .out(inst3_out), .rst(reset));\n",
      "assign O = inst3_out;\n",
      "endmodule\n",
      "\n",
      "\n"
     ]
    }
   ],
   "source": [
    "from magma.backend.verilog import compile as compile_verilog\n",
    "print(compile_verilog(ResetShiftRegister))"
   ]
  },
  {
   "cell_type": "code",
   "execution_count": 3,
   "metadata": {},
   "outputs": [
    {
     "name": "stdout",
     "output_type": "stream",
     "text": [
      "[0, 0, 0, 0, 0, 0, 0, 0, 1, 1, 2, 2, 3, 3, 4, 4, 5, 5, 0, 0, 0, 0, 0, 0, 0, 0, 10, 10, 11, 11, 12, 12]\n"
     ]
    }
   ],
   "source": [
    "from magma.simulator import PythonSimulator\n",
    "from magma.bit_vector import BitVector\n",
    "\n",
    "simulator = PythonSimulator(ResetShiftRegister, clock=ResetShiftRegister.CLK)\n",
    "outputs = []\n",
    "simulator.set_value(ResetShiftRegister.reset, True)\n",
    "for i in range(0, 1 << N):\n",
    "    simulator.set_value(ResetShiftRegister.I, BitVector(i, N))\n",
    "    \n",
    "    for j in range(2):\n",
    "        if i == 9:\n",
    "            if j == 0:\n",
    "                simulator.set_value(ResetShiftRegister.reset, False)\n",
    "            else:\n",
    "                simulator.set_value(ResetShiftRegister.reset, True)\n",
    "        simulator.step()\n",
    "        simulator.evaluate()\n",
    "        O = simulator.get_value(ResetShiftRegister.O)\n",
    "        outputs.append(BitVector(O).as_int())\n",
    "\n",
    "print(outputs)"
   ]
  }
 ],
 "metadata": {
  "kernelspec": {
   "display_name": "Python 3",
   "language": "python",
   "name": "python3"
  },
  "language_info": {
   "codemirror_mode": {
    "name": "ipython",
    "version": 3
   },
   "file_extension": ".py",
   "mimetype": "text/x-python",
   "name": "python",
   "nbconvert_exporter": "python",
   "pygments_lexer": "ipython3",
   "version": "3.6.1"
  }
 },
 "nbformat": 4,
 "nbformat_minor": 2
}
