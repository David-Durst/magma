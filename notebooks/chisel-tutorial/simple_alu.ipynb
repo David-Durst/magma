{
 "cells": [
  {
   "cell_type": "code",
   "execution_count": 1,
   "metadata": {
    "collapsed": true
   },
   "outputs": [],
   "source": [
    "from magma import *\n",
    "from functools import reduce\n",
    "\n",
    "def one_hot_mux(conds, inputs):\n",
    "    outputs = []\n",
    "    for cond, inp in zip(conds, inputs):\n",
    "        outputs.append(inp & [cond for _ in range(len(inp))])\n",
    "    return list(reduce(lambda x, y: x | y, outputs))\n",
    "\n",
    "class SimpleALU(Circuit):\n",
    "    name = \"SimpleALU\"\n",
    "    IO = [\"a\", In(UInt(4)), \"b\", In(UInt(4)), \"opcode\", In(UInt(2)), \"out\", Out(UInt(4))]\n",
    "    \n",
    "    @classmethod\n",
    "    def definition(io):\n",
    "        is_op0 = io.opcode == int2seq(0, 2)\n",
    "        is_op1 = io.opcode == int2seq(1, 2)\n",
    "        is_op2 = io.opcode == int2seq(2, 2)\n",
    "        is_op3 = io.opcode == int2seq(3, 2)\n",
    "        op0_out = io.a + io.b\n",
    "        op1_out = io.a - io.b\n",
    "        op2_out = io.a\n",
    "        op3_out = io.b\n",
    "        wire(io.out, one_hot_mux([is_op0, is_op1, is_op2, is_op3], [op0_out, op1_out, op2_out, op3_out]))"
   ]
  },
  {
   "cell_type": "code",
   "execution_count": 2,
   "metadata": {},
   "outputs": [
    {
     "name": "stdout",
     "output_type": "stream",
     "text": [
      "Success!\n"
     ]
    }
   ],
   "source": [
    "from magma.python_simulator import PythonSimulator\n",
    "from magma.scope import Scope\n",
    "from magma.bit_vector import BitVector\n",
    "\n",
    "simulator = PythonSimulator(SimpleALU)\n",
    "scope = Scope()\n",
    "simulator.set_value(SimpleALU.a, scope, BitVector(3, num_bits=4).as_bool_list())\n",
    "simulator.set_value(SimpleALU.b, scope, BitVector(2, num_bits=4).as_bool_list())\n",
    "simulator.set_value(SimpleALU.opcode, scope, BitVector(0, num_bits=2).as_bool_list())\n",
    "simulator.evaluate()\n",
    "assert simulator.get_value(SimpleALU.out, scope) == int2seq(3 + 2, 4)\n",
    "\n",
    "simulator.set_value(SimpleALU.a, scope, BitVector(3, num_bits=4).as_bool_list())\n",
    "simulator.set_value(SimpleALU.b, scope, BitVector(2, num_bits=4).as_bool_list())\n",
    "simulator.set_value(SimpleALU.opcode, scope, BitVector(1, num_bits=2).as_bool_list())\n",
    "simulator.evaluate()\n",
    "assert simulator.get_value(SimpleALU.out, scope) == int2seq(3 - 2, 4)\n",
    "\n",
    "simulator.set_value(SimpleALU.a, scope, BitVector(3, num_bits=4).as_bool_list())\n",
    "simulator.set_value(SimpleALU.b, scope, BitVector(2, num_bits=4).as_bool_list())\n",
    "simulator.set_value(SimpleALU.opcode, scope, BitVector(2, num_bits=2).as_bool_list())\n",
    "simulator.evaluate()\n",
    "assert simulator.get_value(SimpleALU.out, scope) == int2seq(3, 4)\n",
    "\n",
    "simulator.set_value(SimpleALU.a, scope, BitVector(3, num_bits=4).as_bool_list())\n",
    "simulator.set_value(SimpleALU.b, scope, BitVector(2, num_bits=4).as_bool_list())\n",
    "simulator.set_value(SimpleALU.opcode, scope, BitVector(3, num_bits=2).as_bool_list())\n",
    "simulator.evaluate()\n",
    "assert simulator.get_value(SimpleALU.out, scope) == int2seq(2, 4)\n",
    "print(\"Success!\")"
   ]
  },
  {
   "cell_type": "code",
   "execution_count": 3,
   "metadata": {},
   "outputs": [
    {
     "name": "stdout",
     "output_type": "stream",
     "text": [
      "{SimpleALU.a: 'self.a', SimpleALU.b: 'self.b', SimpleALU.opcode: 'self.opcode', inst0.out: 'inst0.out', inst1.out: 'inst1.out', inst2.out: 'inst2.out', inst3.out: 'inst3.out', inst4.out: 'inst4.out', inst5.out: 'inst5.out', inst6.out: 'inst6.out', inst7.out: 'inst7.out', inst8.out: 'inst8.out', inst9.out: 'inst9.out', inst10.out: 'inst10.out', inst11.out: 'inst11.out', inst12.out: 'inst12.out'}\n",
      "SimpleALU.opcode\n",
      "{SimpleALU.a: 'self.a', SimpleALU.b: 'self.b', SimpleALU.opcode: 'self.opcode', inst0.out: 'inst0.out', inst1.out: 'inst1.out', inst2.out: 'inst2.out', inst3.out: 'inst3.out', inst4.out: 'inst4.out', inst5.out: 'inst5.out', inst6.out: 'inst6.out', inst7.out: 'inst7.out', inst8.out: 'inst8.out', inst9.out: 'inst9.out', inst10.out: 'inst10.out', inst11.out: 'inst11.out', inst12.out: 'inst12.out'}\n",
      "\n"
     ]
    },
    {
     "ename": "KeyError",
     "evalue": "",
     "output_type": "error",
     "traceback": [
      "\u001b[0;31m---------------------------------------------------------------------------\u001b[0m",
      "\u001b[0;31mKeyError\u001b[0m                                  Traceback (most recent call last)",
      "\u001b[0;32m<ipython-input-3-b9fd73ad523f>\u001b[0m in \u001b[0;36m<module>\u001b[0;34m()\u001b[0m\n\u001b[0;32m----> 1\u001b[0;31m \u001b[0mcompile\u001b[0m\u001b[0;34m(\u001b[0m\u001b[0;34m\"build/SimpleALU.json\"\u001b[0m\u001b[0;34m,\u001b[0m \u001b[0mSimpleALU\u001b[0m\u001b[0;34m,\u001b[0m \u001b[0moutput\u001b[0m\u001b[0;34m=\u001b[0m\u001b[0;34m\"coreir\"\u001b[0m\u001b[0;34m)\u001b[0m\u001b[0;34m\u001b[0m\u001b[0m\n\u001b[0m",
      "\u001b[0;32m~/repos/magma/magma/compile.py\u001b[0m in \u001b[0;36mcompile\u001b[0;34m(basename, main, output, origin)\u001b[0m\n\u001b[1;32m     39\u001b[0m         \u001b[0mwrite_file\u001b[0m\u001b[0;34m(\u001b[0m\u001b[0mfile_name\u001b[0m\u001b[0;34m,\u001b[0m \u001b[0;34m'fir'\u001b[0m\u001b[0;34m,\u001b[0m \u001b[0mfirrtl\u001b[0m\u001b[0;34m.\u001b[0m\u001b[0mcompile\u001b[0m\u001b[0;34m(\u001b[0m\u001b[0mmain\u001b[0m\u001b[0;34m)\u001b[0m\u001b[0;34m)\u001b[0m\u001b[0;34m\u001b[0m\u001b[0m\n\u001b[1;32m     40\u001b[0m     \u001b[0;32melif\u001b[0m \u001b[0moutput\u001b[0m \u001b[0;34m==\u001b[0m \u001b[0;34m'coreir'\u001b[0m\u001b[0;34m:\u001b[0m\u001b[0;34m\u001b[0m\u001b[0m\n\u001b[0;32m---> 41\u001b[0;31m         \u001b[0mcoreir_\u001b[0m\u001b[0;34m.\u001b[0m\u001b[0mcompile\u001b[0m\u001b[0;34m(\u001b[0m\u001b[0mmain\u001b[0m\u001b[0;34m,\u001b[0m \u001b[0mfile_name\u001b[0m \u001b[0;34m+\u001b[0m \u001b[0;34m\".json\"\u001b[0m\u001b[0;34m)\u001b[0m\u001b[0;34m\u001b[0m\u001b[0m\n\u001b[0m\u001b[1;32m     42\u001b[0m         \u001b[0;31m# write_file(file_name, 'json', )\u001b[0m\u001b[0;34m\u001b[0m\u001b[0;34m\u001b[0m\u001b[0m\n\u001b[1;32m     43\u001b[0m \u001b[0;34m\u001b[0m\u001b[0m\n",
      "\u001b[0;32m~/repos/magma/magma/backend/coreir_.py\u001b[0m in \u001b[0;36mcompile\u001b[0;34m(main, file_name)\u001b[0m\n\u001b[1;32m    128\u001b[0m \u001b[0;32mdef\u001b[0m \u001b[0mcompile\u001b[0m\u001b[0;34m(\u001b[0m\u001b[0mmain\u001b[0m\u001b[0;34m,\u001b[0m \u001b[0mfile_name\u001b[0m\u001b[0;34m)\u001b[0m\u001b[0;34m:\u001b[0m\u001b[0;34m\u001b[0m\u001b[0m\n\u001b[1;32m    129\u001b[0m     \u001b[0mdefn\u001b[0m \u001b[0;34m=\u001b[0m \u001b[0mfind\u001b[0m\u001b[0;34m(\u001b[0m\u001b[0mmain\u001b[0m\u001b[0;34m,\u001b[0m \u001b[0mOrderedDict\u001b[0m\u001b[0;34m(\u001b[0m\u001b[0;34m)\u001b[0m\u001b[0;34m)\u001b[0m\u001b[0;34m\u001b[0m\u001b[0m\n\u001b[0;32m--> 130\u001b[0;31m     \u001b[0mmodules\u001b[0m \u001b[0;34m=\u001b[0m \u001b[0mCoreIRBackend\u001b[0m\u001b[0;34m(\u001b[0m\u001b[0;34m)\u001b[0m\u001b[0;34m.\u001b[0m\u001b[0mcompile\u001b[0m\u001b[0;34m(\u001b[0m\u001b[0mdefn\u001b[0m\u001b[0;34m)\u001b[0m\u001b[0;34m\u001b[0m\u001b[0m\n\u001b[0m\u001b[1;32m    131\u001b[0m     \u001b[0mmodules\u001b[0m\u001b[0;34m[\u001b[0m\u001b[0mmain\u001b[0m\u001b[0;34m.\u001b[0m\u001b[0m__name__\u001b[0m\u001b[0;34m]\u001b[0m\u001b[0;34m.\u001b[0m\u001b[0msave_to_file\u001b[0m\u001b[0;34m(\u001b[0m\u001b[0mfile_name\u001b[0m\u001b[0;34m)\u001b[0m\u001b[0;34m\u001b[0m\u001b[0m\n",
      "\u001b[0;32m~/repos/magma/magma/backend/coreir_.py\u001b[0m in \u001b[0;36mcompile\u001b[0;34m(self, defn)\u001b[0m\n\u001b[1;32m    123\u001b[0m         \u001b[0mmodules\u001b[0m \u001b[0;34m=\u001b[0m \u001b[0;34m{\u001b[0m\u001b[0;34m}\u001b[0m\u001b[0;34m\u001b[0m\u001b[0m\n\u001b[1;32m    124\u001b[0m         \u001b[0;32mfor\u001b[0m \u001b[0mkey\u001b[0m\u001b[0;34m,\u001b[0m \u001b[0mvalue\u001b[0m \u001b[0;32min\u001b[0m \u001b[0mdefn\u001b[0m\u001b[0;34m.\u001b[0m\u001b[0mitems\u001b[0m\u001b[0;34m(\u001b[0m\u001b[0;34m)\u001b[0m\u001b[0;34m:\u001b[0m\u001b[0;34m\u001b[0m\u001b[0m\n\u001b[0;32m--> 125\u001b[0;31m             \u001b[0mmodules\u001b[0m\u001b[0;34m[\u001b[0m\u001b[0mkey\u001b[0m\u001b[0;34m]\u001b[0m \u001b[0;34m=\u001b[0m \u001b[0mself\u001b[0m\u001b[0;34m.\u001b[0m\u001b[0mcompile_definition\u001b[0m\u001b[0;34m(\u001b[0m\u001b[0mvalue\u001b[0m\u001b[0;34m)\u001b[0m\u001b[0;34m\u001b[0m\u001b[0m\n\u001b[0m\u001b[1;32m    126\u001b[0m         \u001b[0;32mreturn\u001b[0m \u001b[0mmodules\u001b[0m\u001b[0;34m\u001b[0m\u001b[0m\n\u001b[1;32m    127\u001b[0m \u001b[0;34m\u001b[0m\u001b[0m\n",
      "\u001b[0;32m~/repos/magma/magma/backend/coreir_.py\u001b[0m in \u001b[0;36mcompile_definition\u001b[0;34m(self, definition)\u001b[0m\n\u001b[1;32m     90\u001b[0m                         \u001b[0mprint\u001b[0m\u001b[0;34m(\u001b[0m\u001b[0moutput_ports\u001b[0m\u001b[0;34m)\u001b[0m\u001b[0;34m\u001b[0m\u001b[0m\n\u001b[1;32m     91\u001b[0m                         \u001b[0mprint\u001b[0m\u001b[0;34m(\u001b[0m\u001b[0mport\u001b[0m\u001b[0;34m.\u001b[0m\u001b[0mvalue\u001b[0m\u001b[0;34m(\u001b[0m\u001b[0;34m)\u001b[0m\u001b[0;34m)\u001b[0m\u001b[0;34m\u001b[0m\u001b[0m\n\u001b[0;32m---> 92\u001b[0;31m                         \u001b[0msource\u001b[0m \u001b[0;34m=\u001b[0m \u001b[0mmodule_definition\u001b[0m\u001b[0;34m.\u001b[0m\u001b[0mselect\u001b[0m\u001b[0;34m(\u001b[0m\u001b[0mstr\u001b[0m\u001b[0;34m(\u001b[0m\u001b[0moutput_ports\u001b[0m\u001b[0;34m[\u001b[0m\u001b[0mport\u001b[0m\u001b[0;34m.\u001b[0m\u001b[0mvalue\u001b[0m\u001b[0;34m(\u001b[0m\u001b[0;34m)\u001b[0m\u001b[0;34m]\u001b[0m\u001b[0;34m)\u001b[0m\u001b[0;34m)\u001b[0m\u001b[0;34m\u001b[0m\u001b[0m\n\u001b[0m\u001b[1;32m     93\u001b[0m                     module_definition.connect(\n\u001b[1;32m     94\u001b[0m                         \u001b[0msource\u001b[0m\u001b[0;34m,\u001b[0m\u001b[0;34m\u001b[0m\u001b[0m\n",
      "\u001b[0;31mKeyError\u001b[0m: "
     ]
    }
   ],
   "source": [
    "compile(\"build/SimpleALU.json\", SimpleALU, output=\"coreir\")"
   ]
  },
  {
   "cell_type": "code",
   "execution_count": null,
   "metadata": {
    "collapsed": true
   },
   "outputs": [],
   "source": []
  }
 ],
 "metadata": {
  "kernelspec": {
   "display_name": "Python 3",
   "language": "python",
   "name": "python3"
  },
  "language_info": {
   "codemirror_mode": {
    "name": "ipython",
    "version": 3
   },
   "file_extension": ".py",
   "mimetype": "text/x-python",
   "name": "python",
   "nbconvert_exporter": "python",
   "pygments_lexer": "ipython3",
   "version": "3.6.2"
  }
 },
 "nbformat": 4,
 "nbformat_minor": 2
}
