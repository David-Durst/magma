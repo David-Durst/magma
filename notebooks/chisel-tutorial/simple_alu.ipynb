{
 "cells": [
  {
   "cell_type": "code",
   "execution_count": 1,
   "metadata": {},
   "outputs": [],
   "source": [
    "from magma import *\n",
    "from functools import reduce\n",
    "\n",
    "def one_hot_mux(conds, inputs):\n",
    "    outputs = []\n",
    "    for cond, inp in zip(conds, inputs):\n",
    "        outputs.append(inp & [cond for _ in range(len(inp))])\n",
    "    return list(reduce(lambda x, y: x | y, outputs))\n",
    "\n",
    "\n",
    "\n",
    "class SimpleALU(Circuit):\n",
    "    name = \"SimpleALU\"\n",
    "    IO = [\"a\", In(UInt(4)), \"b\", In(UInt(4)), \"opcode\", In(UInt(2)), \"out\", Out(UInt(4))]\n",
    "    \n",
    "    @classmethod\n",
    "    def definition(io):\n",
    "        is_op0 = io.opcode == uint(0, 2)\n",
    "        is_op1 = io.opcode == uint(1, 2)\n",
    "        is_op2 = io.opcode == uint(2, 2)\n",
    "        is_op3 = io.opcode == uint(3, 2)\n",
    "        op0_out = io.a + io.b\n",
    "        op1_out = io.a - io.b\n",
    "        op2_out = io.a\n",
    "        op3_out = io.b\n",
    "        wire(io.out, one_hot_mux([is_op0, is_op1, is_op2, is_op3], [op0_out, op1_out, op2_out, op3_out]))"
   ]
  },
  {
   "cell_type": "code",
   "execution_count": 2,
   "metadata": {},
   "outputs": [
    {
     "name": "stdout",
     "output_type": "stream",
     "text": [
      "compiling SimpleALU\n",
      "module SimpleALU (input [3:0] a, input [3:0] b, input [1:0] opcode, output [3:0] out);\n",
      "wire  inst0_out;\n",
      "wire  inst1_out;\n",
      "wire  inst2_out;\n",
      "wire  inst3_out;\n",
      "wire [3:0] inst4_out;\n",
      "wire [3:0] inst5_out;\n",
      "wire [3:0] inst6_out;\n",
      "wire [3:0] inst7_out;\n",
      "wire [3:0] inst8_out;\n",
      "wire [3:0] inst9_out;\n",
      "wire [3:0] inst10_out;\n",
      "wire [3:0] inst11_out;\n",
      "wire [3:0] inst12_out;\n",
      "coreir_eq #(.width(2)) inst0 (.in0(opcode), .in1({1'b0,1'b0}), .out(inst0_out));\n",
      "coreir_eq #(.width(2)) inst1 (.in0(opcode), .in1({1'b0,1'b1}), .out(inst1_out));\n",
      "coreir_eq #(.width(2)) inst2 (.in0(opcode), .in1({1'b1,1'b0}), .out(inst2_out));\n",
      "coreir_eq #(.width(2)) inst3 (.in0(opcode), .in1({1'b1,1'b1}), .out(inst3_out));\n",
      "coreir_add #(.width(4)) inst4 (.in0(a), .in1(b), .out(inst4_out));\n",
      "coreir_sub #(.width(4)) inst5 (.in0(a), .in1(b), .out(inst5_out));\n",
      "coreir_and #(.width(4)) inst6 (.in0(inst4_out), .in1({inst0_out,inst0_out,inst0_out,inst0_out}), .out(inst6_out));\n",
      "coreir_and #(.width(4)) inst7 (.in0(inst5_out), .in1({inst1_out,inst1_out,inst1_out,inst1_out}), .out(inst7_out));\n",
      "coreir_and #(.width(4)) inst8 (.in0(a), .in1({inst2_out,inst2_out,inst2_out,inst2_out}), .out(inst8_out));\n",
      "coreir_and #(.width(4)) inst9 (.in0(b), .in1({inst3_out,inst3_out,inst3_out,inst3_out}), .out(inst9_out));\n",
      "coreir_or #(.width(4)) inst10 (.in0(inst6_out), .in1(inst7_out), .out(inst10_out));\n",
      "coreir_or #(.width(4)) inst11 (.in0(inst10_out), .in1(inst8_out), .out(inst11_out));\n",
      "coreir_or #(.width(4)) inst12 (.in0(inst11_out), .in1(inst9_out), .out(inst12_out));\n",
      "assign out = inst12_out;\n",
      "endmodule\n",
      "\n",
      "\n"
     ]
    }
   ],
   "source": [
    "from magma.backend.verilog import compile as compile_verilog\n",
    "\n",
    "print(compile_verilog(SimpleALU))"
   ]
  },
  {
   "cell_type": "code",
   "execution_count": 3,
   "metadata": {},
   "outputs": [
    {
     "name": "stdout",
     "output_type": "stream",
     "text": [
      "Success!\n"
     ]
    }
   ],
   "source": [
    "from magma.python_simulator import PythonSimulator\n",
    "from magma.scope import Scope\n",
    "from magma.bit_vector import BitVector\n",
    "\n",
    "simulator = PythonSimulator(SimpleALU)\n",
    "scope = Scope()\n",
    "simulator.set_value(SimpleALU.a, scope, BitVector(3, num_bits=4))\n",
    "simulator.set_value(SimpleALU.b, scope, BitVector(2, num_bits=4))\n",
    "simulator.set_value(SimpleALU.opcode, scope, BitVector(0, num_bits=2))\n",
    "simulator.evaluate()\n",
    "assert simulator.get_value(SimpleALU.out, scope) == BitVector(3 + 2, num_bits=4)\n",
    "\n",
    "simulator.set_value(SimpleALU.a, scope, BitVector(3, num_bits=4))\n",
    "simulator.set_value(SimpleALU.b, scope, BitVector(2, num_bits=4))\n",
    "simulator.set_value(SimpleALU.opcode, scope, BitVector(1, num_bits=2))\n",
    "simulator.evaluate()\n",
    "assert simulator.get_value(SimpleALU.out, scope) == BitVector(3 - 2, num_bits=4)\n",
    "\n",
    "simulator.set_value(SimpleALU.a, scope, BitVector(3, num_bits=4))\n",
    "simulator.set_value(SimpleALU.b, scope, BitVector(2, num_bits=4))\n",
    "simulator.set_value(SimpleALU.opcode, scope, BitVector(2, num_bits=2))\n",
    "simulator.evaluate()\n",
    "assert simulator.get_value(SimpleALU.out, scope) == BitVector(3, num_bits=4)\n",
    "\n",
    "simulator.set_value(SimpleALU.a, scope, BitVector(3, num_bits=4))\n",
    "simulator.set_value(SimpleALU.b, scope, BitVector(2, num_bits=4))\n",
    "simulator.set_value(SimpleALU.opcode, scope, BitVector(3, num_bits=2))\n",
    "simulator.evaluate()\n",
    "assert simulator.get_value(SimpleALU.out, scope) == BitVector(2, num_bits=4)\n",
    "print(\"Success!\")"
   ]
  }
 ],
 "metadata": {
  "kernelspec": {
   "display_name": "Python 3",
   "language": "python",
   "name": "python3"
  },
  "language_info": {
   "codemirror_mode": {
    "name": "ipython",
    "version": 3
   },
   "file_extension": ".py",
   "mimetype": "text/x-python",
   "name": "python",
   "nbconvert_exporter": "python",
   "pygments_lexer": "ipython3",
   "version": "3.6.2"
  }
 },
 "nbformat": 4,
 "nbformat_minor": 2
}
