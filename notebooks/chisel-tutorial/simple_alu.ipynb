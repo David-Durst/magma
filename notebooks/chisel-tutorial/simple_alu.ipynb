{
 "cells": [
  {
   "cell_type": "code",
   "execution_count": 1,
   "metadata": {},
   "outputs": [],
   "source": [
    "from magma import *\n",
    "from functools import reduce\n",
    "\n",
    "def one_hot_mux(conds, inputs):\n",
    "    outputs = []\n",
    "    for cond, inp in zip(conds, inputs):\n",
    "        outputs.append(inp & [cond for _ in range(len(inp))])\n",
    "    return list(reduce(lambda x, y: x | y, outputs))\n",
    "\n",
    "class SimpleALU(Circuit):\n",
    "    name = \"SimpleALU\"\n",
    "    IO = [\"a\", In(UInt(4)), \"b\", In(UInt(4)), \"opcode\", In(UInt(2)), \"out\", Out(UInt(4))]\n",
    "    \n",
    "    @classmethod\n",
    "    def definition(io):\n",
    "        is_op0 = io.opcode == int2seq(0, 2)\n",
    "        is_op1 = io.opcode == int2seq(1, 2)\n",
    "        is_op2 = io.opcode == int2seq(2, 2)\n",
    "        is_op3 = io.opcode == int2seq(3, 2)\n",
    "        op0_out = io.a + io.b\n",
    "        op1_out = io.a - io.b\n",
    "        op2_out = io.a\n",
    "        op3_out = io.b\n",
    "        wire(io.out, one_hot_mux([is_op0, is_op1, is_op2, is_op3], [op0_out, op1_out, op2_out, op3_out]))"
   ]
  },
  {
   "cell_type": "code",
   "execution_count": 2,
   "metadata": {},
   "outputs": [
    {
     "name": "stdout",
     "output_type": "stream",
     "text": [
      "Success!\n"
     ]
    }
   ],
   "source": [
    "from magma.python_simulator import PythonSimulator\n",
    "from magma.scope import Scope\n",
    "from magma.bit_vector import BitVector\n",
    "\n",
    "simulator = PythonSimulator(SimpleALU)\n",
    "scope = Scope()\n",
    "simulator.set_value(SimpleALU.a, scope, BitVector(3, num_bits=4).as_bool_list())\n",
    "simulator.set_value(SimpleALU.b, scope, BitVector(2, num_bits=4).as_bool_list())\n",
    "simulator.set_value(SimpleALU.opcode, scope, BitVector(0, num_bits=2).as_bool_list())\n",
    "simulator.evaluate()\n",
    "assert simulator.get_value(SimpleALU.out, scope) == int2seq(3 + 2, 4)\n",
    "\n",
    "simulator.set_value(SimpleALU.a, scope, BitVector(3, num_bits=4).as_bool_list())\n",
    "simulator.set_value(SimpleALU.b, scope, BitVector(2, num_bits=4).as_bool_list())\n",
    "simulator.set_value(SimpleALU.opcode, scope, BitVector(1, num_bits=2).as_bool_list())\n",
    "simulator.evaluate()\n",
    "assert simulator.get_value(SimpleALU.out, scope) == int2seq(3 - 2, 4)\n",
    "\n",
    "simulator.set_value(SimpleALU.a, scope, BitVector(3, num_bits=4).as_bool_list())\n",
    "simulator.set_value(SimpleALU.b, scope, BitVector(2, num_bits=4).as_bool_list())\n",
    "simulator.set_value(SimpleALU.opcode, scope, BitVector(2, num_bits=2).as_bool_list())\n",
    "simulator.evaluate()\n",
    "assert simulator.get_value(SimpleALU.out, scope) == int2seq(3, 4)\n",
    "\n",
    "simulator.set_value(SimpleALU.a, scope, BitVector(3, num_bits=4).as_bool_list())\n",
    "simulator.set_value(SimpleALU.b, scope, BitVector(2, num_bits=4).as_bool_list())\n",
    "simulator.set_value(SimpleALU.opcode, scope, BitVector(3, num_bits=2).as_bool_list())\n",
    "simulator.evaluate()\n",
    "assert simulator.get_value(SimpleALU.out, scope) == int2seq(2, 4)\n",
    "print(\"Success!\")"
   ]
  },
  {
   "cell_type": "code",
   "execution_count": null,
   "metadata": {
    "collapsed": true
   },
   "outputs": [],
   "source": []
  }
 ],
 "metadata": {
  "kernelspec": {
   "display_name": "Python 3",
   "language": "python",
   "name": "python3"
  },
  "language_info": {
   "codemirror_mode": {
    "name": "ipython",
    "version": 3
   },
   "file_extension": ".py",
   "mimetype": "text/x-python",
   "name": "python",
   "nbconvert_exporter": "python",
   "pygments_lexer": "ipython3",
   "version": "3.6.2"
  }
 },
 "nbformat": 4,
 "nbformat_minor": 2
}
