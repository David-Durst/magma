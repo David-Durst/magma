{
 "cells": [
  {
   "cell_type": "code",
   "execution_count": 1,
   "metadata": {},
   "outputs": [],
   "source": [
    "from magma import *\n",
    "\n",
    "class Combinational(Circuit):\n",
    "    name = \"Combinational\"\n",
    "    IO = [\"x\", In(UInt(16)), \"y\", In(UInt(16)), \"z\", Out(UInt(16))]\n",
    "    \n",
    "    @classmethod\n",
    "    def definition(io):\n",
    "        wire(io.x + io.y, io.z)"
   ]
  },
  {
   "cell_type": "code",
   "execution_count": 2,
   "metadata": {},
   "outputs": [
    {
     "name": "stdout",
     "output_type": "stream",
     "text": [
      "Success!\n"
     ]
    }
   ],
   "source": [
    "from magma.python_simulator import PythonSimulator\n",
    "from magma.scope import Scope\n",
    "from magma.bit_vector import BitVector\n",
    "\n",
    "simulator = PythonSimulator(Combinational)\n",
    "scope = Scope()\n",
    "simulator.set_value(Combinational.x, scope, BitVector(76, num_bits=16).as_bool_list())\n",
    "simulator.set_value(Combinational.y, scope, BitVector(43, num_bits=16).as_bool_list())\n",
    "simulator.evaluate()\n",
    "assert simulator.get_value(Combinational.z, scope) == int2seq(76 + 43, 16)\n",
    "print(\"Success!\")"
   ]
  },
  {
   "cell_type": "code",
   "execution_count": null,
   "metadata": {
    "collapsed": true
   },
   "outputs": [],
   "source": []
  }
 ],
 "metadata": {
  "kernelspec": {
   "display_name": "Python 3",
   "language": "python",
   "name": "python3"
  },
  "language_info": {
   "codemirror_mode": {
    "name": "ipython",
    "version": 3
   },
   "file_extension": ".py",
   "mimetype": "text/x-python",
   "name": "python",
   "nbconvert_exporter": "python",
   "pygments_lexer": "ipython3",
   "version": "3.6.2"
  }
 },
 "nbformat": 4,
 "nbformat_minor": 2
}
