{
 "cells": [
  {
   "cell_type": "code",
   "execution_count": 1,
   "metadata": {},
   "outputs": [
    {
     "name": "stdout",
     "output_type": "stream",
     "text": [
      "import magma\n",
      "compiling And1\n",
      "compiling Xor1\n",
      "compiling main\n",
      "circuit main :\n",
      "  module And1 :\n",
      "    input I0 : UInt<1>\n",
      "    input I1 : UInt<1>\n",
      "    output O : UInt<1>\n",
      "    \n",
      "    O <= and(I0, I1)\n",
      "  module Xor1 :\n",
      "    input I0 : UInt<1>\n",
      "    input I1 : UInt<1>\n",
      "    output O : UInt<1>\n",
      "    \n",
      "    O <= xor(I0, I1)\n",
      "  module main :\n",
      "    input a : UInt<1>\n",
      "    input b : UInt<1>\n",
      "    input c : UInt<1>\n",
      "    output d : UInt<1>\n",
      "    \n",
      "    wire inst0_O : UInt<1>\n",
      "    wire inst1_O : UInt<1>\n",
      "    inst inst0 of And1\n",
      "    inst0.I0 <= a\n",
      "    inst0.I1 <= b\n",
      "    inst0_O <= inst0.O\n",
      "    inst inst1 of Xor1\n",
      "    inst1.I0 <= inst0_O\n",
      "    inst1.I1 <= c\n",
      "    inst1_O <= inst1.O\n",
      "    d <= inst1_O\n",
      "\n"
     ]
    }
   ],
   "source": [
    "from magma import *\n",
    "main = DefineCircuit('main', \"a\", In(Bit), \"b\", In(Bit), \"c\", In(Bit), \"d\", Out(Bit))\n",
    "d = (main.a & main.b) ^ main.c\n",
    "wire(d, main.d)\n",
    "compile(\"main\", main, output=\"firrtl\")\n",
    "\n",
    "with open(\"main.fir\", \"r\") as f:\n",
    "    print(f.read())"
   ]
  },
  {
   "cell_type": "code",
   "execution_count": 2,
   "metadata": {},
   "outputs": [
    {
     "name": "stdout",
     "output_type": "stream",
     "text": [
      "Total FIRRTL Compile Time: 331.8 ms\r\n"
     ]
    }
   ],
   "source": [
    "!firrtl -i main.fir -o main.v -X verilog"
   ]
  },
  {
   "cell_type": "code",
   "execution_count": 3,
   "metadata": {},
   "outputs": [
    {
     "name": "stdout",
     "output_type": "stream",
     "text": [
      "`ifdef RANDOMIZE_GARBAGE_ASSIGN\n",
      "`define RANDOMIZE\n",
      "`endif\n",
      "`ifdef RANDOMIZE_INVALID_ASSIGN\n",
      "`define RANDOMIZE\n",
      "`endif\n",
      "`ifdef RANDOMIZE_REG_INIT\n",
      "`define RANDOMIZE\n",
      "`endif\n",
      "`ifdef RANDOMIZE_MEM_INIT\n",
      "`define RANDOMIZE\n",
      "`endif\n",
      "\n",
      "module And1(\n",
      "  input   I0,\n",
      "  input   I1,\n",
      "  output  O\n",
      ");\n",
      "  assign O = I0 & I1;\n",
      "endmodule\n",
      "module Xor1(\n",
      "  input   I0,\n",
      "  input   I1,\n",
      "  output  O\n",
      ");\n",
      "  assign O = I0 ^ I1;\n",
      "endmodule\n",
      "module main(\n",
      "  input   a,\n",
      "  input   b,\n",
      "  input   c,\n",
      "  output  d\n",
      ");\n",
      "  wire  inst0_O;\n",
      "  wire  inst1_O;\n",
      "  wire  inst0__I0;\n",
      "  wire  inst0__I1;\n",
      "  wire  inst0__O;\n",
      "  wire  inst1__I0;\n",
      "  wire  inst1__I1;\n",
      "  wire  inst1__O;\n",
      "  And1 inst0_ (\n",
      "    .I0(inst0__I0),\n",
      "    .I1(inst0__I1),\n",
      "    .O(inst0__O)\n",
      "  );\n",
      "  Xor1 inst1_ (\n",
      "    .I0(inst1__I0),\n",
      "    .I1(inst1__I1),\n",
      "    .O(inst1__O)\n",
      "  );\n",
      "  assign d = inst1_O;\n",
      "  assign inst0_O = inst0__O;\n",
      "  assign inst1_O = inst1__O;\n",
      "  assign inst0__I0 = a;\n",
      "  assign inst0__I1 = b;\n",
      "  assign inst1__I0 = inst0_O;\n",
      "  assign inst1__I1 = c;\n",
      "endmodule\n",
      "\n"
     ]
    }
   ],
   "source": [
    "with open(\"main.v\", \"r\") as f:\n",
    "    print(f.read())"
   ]
  },
  {
   "cell_type": "code",
   "execution_count": 5,
   "metadata": {},
   "outputs": [],
   "source": [
    "with open(\"sim_main.cpp\", \"w\") as sim_main_f:\n",
    "    sim_main_f.write(\"\"\"\n",
    "#include \"Vmain.h\"\n",
    "#include \"verilated.h\"\n",
    "#include <cassert>\n",
    "#include <iostream>\n",
    "\n",
    "int main(int argc, char **argv, char **env) {\n",
    "    Verilated::commandArgs(argc, argv);\n",
    "    Vmain* top = new Vmain;\n",
    "    int tests[8][4] = {\n",
    "        {0, 0, 0, 0},\n",
    "        {1, 0, 0, 0},\n",
    "        {0, 1, 0, 0},\n",
    "        {1, 1, 0, 1},\n",
    "        {0, 0, 1, 1},\n",
    "        {1, 0, 1, 1},\n",
    "        {0, 1, 1, 1},\n",
    "        {1, 1, 1, 1},\n",
    "    };\n",
    "    for(int i = 0; i < 8; i++) {\n",
    "        int* test = tests[i];\n",
    "        int a = test[0];\n",
    "        int b = test[1];\n",
    "        int c = test[2];\n",
    "        int d = test[3];\n",
    "\n",
    "        top->a = a;\n",
    "        top->b = b;\n",
    "        top->c = c;\n",
    "\n",
    "        top->eval();\n",
    "        assert(top->d == ((a & b) ^ c));\n",
    "    }\n",
    "\n",
    "    delete top;\n",
    "    std::cout << \"Success\" << std::endl;\n",
    "    exit(0);\n",
    "}    \n",
    "\"\"\")"
   ]
  },
  {
   "cell_type": "code",
   "execution_count": 6,
   "metadata": {},
   "outputs": [
    {
     "name": "stdout",
     "output_type": "stream",
     "text": [
      "clang++  -I.  -MMD -I/usr/local/Cellar/verilator/3.900/share/verilator/include -I/usr/local/Cellar/verilator/3.900/share/verilator/include/vltstd -DVL_PRINTF=printf -DVM_COVERAGE=0 -DVM_SC=0 -DVM_TRACE=0 -Wno-char-subscripts -Wno-parentheses-equality -Wno-sign-compare -Wno-uninitialized -Wno-unused-parameter -Wno-unused-variable -fbracket-depth=4096 -Qunused-arguments       -c -o sim_main.o ../sim_main.cpp\n",
      "clang++  -I.  -MMD -I/usr/local/Cellar/verilator/3.900/share/verilator/include -I/usr/local/Cellar/verilator/3.900/share/verilator/include/vltstd -DVL_PRINTF=printf -DVM_COVERAGE=0 -DVM_SC=0 -DVM_TRACE=0 -Wno-char-subscripts -Wno-parentheses-equality -Wno-sign-compare -Wno-uninitialized -Wno-unused-parameter -Wno-unused-variable -fbracket-depth=4096 -Qunused-arguments       -c -o verilated.o /usr/local/Cellar/verilator/3.900/share/verilator/include/verilated.cpp\n",
      "/usr/bin/perl /usr/local/Cellar/verilator/3.900/share/verilator/bin/verilator_includer -DVL_INCLUDE_OPT=include Vmain.cpp > Vmain__ALLcls.cpp\n",
      "/usr/bin/perl /usr/local/Cellar/verilator/3.900/share/verilator/bin/verilator_includer -DVL_INCLUDE_OPT=include Vmain__Syms.cpp > Vmain__ALLsup.cpp\n",
      "clang++  -I.  -MMD -I/usr/local/Cellar/verilator/3.900/share/verilator/include -I/usr/local/Cellar/verilator/3.900/share/verilator/include/vltstd -DVL_PRINTF=printf -DVM_COVERAGE=0 -DVM_SC=0 -DVM_TRACE=0 -Wno-char-subscripts -Wno-parentheses-equality -Wno-sign-compare -Wno-uninitialized -Wno-unused-parameter -Wno-unused-variable -fbracket-depth=4096 -Qunused-arguments       -c -o Vmain__ALLsup.o Vmain__ALLsup.cpp\n",
      "clang++  -I.  -MMD -I/usr/local/Cellar/verilator/3.900/share/verilator/include -I/usr/local/Cellar/verilator/3.900/share/verilator/include/vltstd -DVL_PRINTF=printf -DVM_COVERAGE=0 -DVM_SC=0 -DVM_TRACE=0 -Wno-char-subscripts -Wno-parentheses-equality -Wno-sign-compare -Wno-uninitialized -Wno-unused-parameter -Wno-unused-variable -fbracket-depth=4096 -Qunused-arguments       -c -o Vmain__ALLcls.o Vmain__ALLcls.cpp\n",
      "      Archiving Vmain__ALL.a ...\n",
      "ar r Vmain__ALL.a Vmain__ALLcls.o Vmain__ALLsup.o\n",
      "ranlib Vmain__ALL.a\n",
      "clang++    sim_main.o verilated.o Vmain__ALL.a    -o Vmain -lm -lstdc++  2>&1 | c++filt\n",
      "Success\n"
     ]
    },
    {
     "name": "stderr",
     "output_type": "stream",
     "text": [
      "ar: creating archive Vmain__ALL.a\n"
     ]
    }
   ],
   "source": [
    "%%bash\n",
    "verilator -Wall -Wno-DECLFILENAME --cc main.v --exe sim_main.cpp\n",
    "make -C obj_dir -j -f Vmain.mk Vmain\n",
    "./obj_dir/Vmain"
   ]
  },
  {
   "cell_type": "code",
   "execution_count": null,
   "metadata": {
    "collapsed": true
   },
   "outputs": [],
   "source": []
  }
 ],
 "metadata": {
  "kernelspec": {
   "display_name": "Python 3",
   "language": "python",
   "name": "python3"
  },
  "language_info": {
   "codemirror_mode": {
    "name": "ipython",
    "version": 3
   },
   "file_extension": ".py",
   "mimetype": "text/x-python",
   "name": "python",
   "nbconvert_exporter": "python",
   "pygments_lexer": "ipython3",
   "version": "3.6.1"
  }
 },
 "nbformat": 4,
 "nbformat_minor": 2
}
