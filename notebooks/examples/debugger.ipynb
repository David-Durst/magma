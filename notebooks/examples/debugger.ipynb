{
 "cells": [
  {
   "cell_type": "code",
   "execution_count": null,
   "metadata": {},
   "outputs": [
    {
     "name": "stdout",
     "output_type": "stream",
     "text": [
      "import mantle lattice ice40\n",
      "import mantle lattice mantle40\n",
      "Magma Interactive Simulator.   Type help or ? to list commands.\n",
      "0: / >>> info interfaces\n",
      "I don't know how to give you info on that\n",
      "0: / >>> help info\n",
      "info instances|interface|watchpoints:\n",
      "     instances: Display all the instances in the current scope\n",
      "     interface: Display the interface bits of the current scope's outer circuit\n",
      "     watchpoints: Display currently active watchpoints\n",
      "0: / >>> info instances\n",
      "\n",
      "  Addcout2: add @ /Users/hanrahan/git/mantle/mantle/common/counter.py:45 (inst0)\n",
      "  Register2: reg @ /Users/hanrahan/git/mantle/mantle/common/counter.py:46 (inst1)\n",
      "\n",
      "0: / >>> info add\n",
      "I don't know how to give you info on that\n",
      "0: / >>> help\n",
      "\n",
      "Documented commands (type help <topic>):\n",
      "========================================\n",
      "backtrace  descend  help          next   repeat     up   \n",
      "continue   display  info          print  step       watch\n",
      "delete     examine  modify_input  quit   undisplay\n",
      "\n",
      "0: / >>> descend reg\n",
      "0: /Register2.inst1 >>> info interface\n",
      "\n",
      "Circuit Inputs:\n",
      "  Bit[2]:I\n",
      "  Bit: CLK\n",
      "\n",
      "Circuit Outputs:\n",
      "  Bit[2]:O\n",
      "\n",
      "0: /Register2.inst1 >>> up\n",
      "0: / >>> descend add\n",
      "0: /Addcout2.inst0 >>> info interface\n",
      "\n",
      "Circuit Inputs:\n",
      "  Bit[2]:I0\n",
      "  Bit[2]:I1\n",
      "\n",
      "Circuit Outputs:\n",
      "  Bit[2]:O\n",
      "  Bit: COUT\n",
      "\n",
      "0: /Addcout2.inst0 >>> up\n",
      "0: / >>> display reg.O\n",
      "\t1: reg.O = 0\n",
      "0: / >>> display add.COUT\n",
      "\t1: reg.O = 0\n",
      "\t2: add.COUT = 0\n",
      "0: / >>> step\n",
      "\t1: reg.O = 1\n",
      "\t2: add.COUT = 0\n",
      "1: / >>> \n",
      "\t1: reg.O = 1\n",
      "\t2: add.COUT = 0\n",
      "1: / >>> \n",
      "\t1: reg.O = 2\n",
      "\t2: add.COUT = 0\n",
      "2: / >>> \n",
      "\t1: reg.O = 2\n",
      "\t2: add.COUT = 0\n",
      "2: / >>> \n",
      "\t1: reg.O = 3\n",
      "\t2: add.COUT = 1\n",
      "3: / >>> \n",
      "\t1: reg.O = 3\n",
      "\t2: add.COUT = 1\n",
      "3: / >>> \n",
      "\t1: reg.O = 0\n",
      "\t2: add.COUT = 0\n",
      "4: / >>> examine reg.O\n",
      "[False, False]\n",
      "\t1: reg.O = 0\n",
      "\t2: add.COUT = 0\n",
      "4: / >>> examine COUT\n",
      "Failed to print: name 'COUT' is not defined\n",
      "\t1: reg.O = 0\n",
      "\t2: add.COUT = 0\n",
      "4: / >>> print reg.O\n",
      "0\n",
      "\t1: reg.O = 0\n",
      "\t2: add.COUT = 0\n",
      "4: / >>> reg add.COUT\n",
      "Invalid python: invalid syntax (<input>, line 1)\n",
      "\t1: reg.O = 0\n",
      "\t2: add.COUT = 0\n",
      "4: / >>> print add.COUT\n",
      "0\n",
      "\t1: reg.O = 0\n",
      "\t2: add.COUT = 0\n",
      "4: / >>> help print\n",
      "print BIT: prints the current value of BIT interpreted as an unsigned integer.\n",
      "\t1: reg.O = 0\n",
      "\t2: add.COUT = 0\n",
      "4: / >>> help examine\n",
      "examine BIT: prints the current value of BIT as an array of booleans. Shortcut: x BIT.\n",
      "\t1: reg.O = 0\n",
      "\t2: add.COUT = 0\n",
      "4: / >>> reg.O\n"
     ]
    },
    {
     "data": {
      "text/plain": [
       "inst1.O"
      ]
     },
     "execution_count": 1,
     "metadata": {},
     "output_type": "execute_result"
    },
    {
     "name": "stdout",
     "output_type": "stream",
     "text": [
      "\t1: reg.O = 0\n",
      "\t2: add.COUT = 0\n",
      "4: / >>> \n"
     ]
    },
    {
     "data": {
      "text/plain": [
       "inst1.O"
      ]
     },
     "execution_count": 1,
     "metadata": {},
     "output_type": "execute_result"
    },
    {
     "name": "stdout",
     "output_type": "stream",
     "text": [
      "\t1: reg.O = 0\n",
      "\t2: add.COUT = 0\n"
     ]
    }
   ],
   "source": [
    "import os\n",
    "os.environ['MANTLE_TARGET'] = 'ice40'\n",
    "from magma.simulator_interactive_frontend import simulate\n",
    "from mantle import DefineCounter\n",
    "\n",
    "counter = DefineCounter(2)\n",
    "\n",
    "simulate(counter) # simulator requires a Circuit Definition"
   ]
  },
  {
   "cell_type": "code",
   "execution_count": null,
   "metadata": {
    "collapsed": true
   },
   "outputs": [],
   "source": []
  }
 ],
 "metadata": {
  "kernelspec": {
   "display_name": "Python 3",
   "language": "python",
   "name": "python3"
  },
  "language_info": {
   "codemirror_mode": {
    "name": "ipython",
    "version": 3
   },
   "file_extension": ".py",
   "mimetype": "text/x-python",
   "name": "python",
   "nbconvert_exporter": "python",
   "pygments_lexer": "ipython3",
   "version": "3.6.2"
  }
 },
 "nbformat": 4,
 "nbformat_minor": 2
}
