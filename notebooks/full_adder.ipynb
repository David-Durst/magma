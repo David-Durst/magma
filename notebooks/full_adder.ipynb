{
 "cells": [
  {
   "cell_type": "code",
   "execution_count": 1,
   "metadata": {},
   "outputs": [],
   "source": [
    "from magma import *\n",
    "\n",
    "class FullAdder(Circuit):\n",
    "    name = \"FullAdder\"\n",
    "    IO = [\"a\", In(Bit), \"b\", In(Bit), \"cin\", In(Bit), \"out\", Out(Bit), \"cout\", Out(Bit)]\n",
    "    @classmethod\n",
    "    def definition(io):\n",
    "        # Generate the sum\n",
    "        a_xor_b = io.a ^ io.b\n",
    "        wire(a_xor_b ^ io.cin, io.out)\n",
    "        # Generate the carry\n",
    "        a_and_b = io.a & io.b\n",
    "        b_and_cin = io.b & io.cin\n",
    "        a_and_cin = io.a & io.cin\n",
    "        wire(a_and_b | b_and_cin | a_and_cin, io.cout)\n"
   ]
  },
  {
   "cell_type": "code",
   "execution_count": 2,
   "metadata": {},
   "outputs": [
    {
     "name": "stdout",
     "output_type": "stream",
     "text": [
      "Success!\n"
     ]
    }
   ],
   "source": [
    "from magma.python_simulator import PythonSimulator\n",
    "from magma.scope import Scope\n",
    "\n",
    "simulator = PythonSimulator(FullAdder)\n",
    "scope = Scope()\n",
    "test_vectors = [\n",
    "    [0, 0, 0, 0, 0],\n",
    "    [0, 1, 0, 1, 0],\n",
    "    [1, 0, 0, 1, 0],\n",
    "    [1, 1, 0, 0, 1],\n",
    "    [0, 1, 1, 0, 1],\n",
    "    [1, 0, 1, 0, 1],\n",
    "    [1, 1, 0, 0, 1],\n",
    "    [1, 1, 1, 1, 1]\n",
    "]\n",
    "\n",
    "for a, b, cin, out, cout in test_vectors:\n",
    "    simulator.set_value(FullAdder.a, scope, bool(a))\n",
    "    simulator.set_value(FullAdder.b, scope, bool(b))\n",
    "    simulator.set_value(FullAdder.cin, scope, bool(cin))\n",
    "    simulator.evaluate()\n",
    "    assert simulator.get_value(FullAdder.out, scope) == bool(out)\n",
    "    assert simulator.get_value(FullAdder.cout, scope) == bool(cout)\n",
    "\n",
    "print(\"Success!\")"
   ]
  }
 ],
 "metadata": {
  "kernelspec": {
   "display_name": "Python 3",
   "language": "python",
   "name": "python3"
  },
  "language_info": {
   "codemirror_mode": {
    "name": "ipython",
    "version": 3
   },
   "file_extension": ".py",
   "mimetype": "text/x-python",
   "name": "python",
   "nbconvert_exporter": "python",
   "pygments_lexer": "ipython3",
   "version": "3.6.2"
  }
 },
 "nbformat": 4,
 "nbformat_minor": 2
}
