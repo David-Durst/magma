{
 "cells": [
  {
   "cell_type": "code",
   "execution_count": 1,
   "metadata": {},
   "outputs": [],
   "source": [
    "from magma import *\n",
    "\n",
    "class FullAdder(Circuit):\n",
    "    name = \"FullAdder\"\n",
    "    IO = [\"a\", In(Bit), \"b\", In(Bit), \"cin\", In(Bit), \"out\", Out(Bit), \"cout\", Out(Bit)]\n",
    "    @classmethod\n",
    "    def definition(io):\n",
    "        # Generate the sum\n",
    "        _sum = io.a ^ io.b ^ io.cin\n",
    "        wire(_sum, io.out)\n",
    "        # Generate the carry\n",
    "        carry = (io.a & io.b) | (io.b & io.cin) | (io.a & io.cin)\n",
    "        wire(carry, io.cout)\n"
   ]
  },
  {
   "cell_type": "code",
   "execution_count": 2,
   "metadata": {},
   "outputs": [
    {
     "name": "stdout",
     "output_type": "stream",
     "text": [
      "compiling FullAdder\n",
      "module FullAdder (input  a, input  b, input  cin, output  out, output  cout);\n",
      "wire  inst0_out;\n",
      "wire  inst1_out;\n",
      "wire  inst2_out;\n",
      "wire  inst3_out;\n",
      "wire  inst4_out;\n",
      "wire  inst5_out;\n",
      "wire  inst6_out;\n",
      "coreir_xor #(.WIDTH(1)) inst0 (.in0(a), .in1(b), .out(inst0_out));\n",
      "coreir_xor #(.WIDTH(1)) inst1 (.in0(inst0_out), .in1(cin), .out(inst1_out));\n",
      "coreir_and #(.WIDTH(1)) inst2 (.in0(a), .in1(b), .out(inst2_out));\n",
      "coreir_and #(.WIDTH(1)) inst3 (.in0(b), .in1(cin), .out(inst3_out));\n",
      "coreir_or #(.WIDTH(1)) inst4 (.in0(inst2_out), .in1(inst3_out), .out(inst4_out));\n",
      "coreir_and #(.WIDTH(1)) inst5 (.in0(a), .in1(cin), .out(inst5_out));\n",
      "coreir_or #(.WIDTH(1)) inst6 (.in0(inst4_out), .in1(inst5_out), .out(inst6_out));\n",
      "assign out = inst1_out;\n",
      "assign cout = inst6_out;\n",
      "endmodule\n",
      "\n",
      "\n"
     ]
    }
   ],
   "source": [
    "from magma.backend.verilog import compile as compile_verilog\n",
    "\n",
    "print(compile_verilog(FullAdder))"
   ]
  },
  {
   "cell_type": "code",
   "execution_count": 3,
   "metadata": {},
   "outputs": [
    {
     "name": "stdout",
     "output_type": "stream",
     "text": [
      "Success!\n"
     ]
    }
   ],
   "source": [
    "from magma.python_simulator import PythonSimulator\n",
    "from magma.scope import Scope\n",
    "\n",
    "simulator = PythonSimulator(FullAdder)\n",
    "scope = Scope()\n",
    "test_vectors = [\n",
    "    [0, 0, 0, 0, 0],\n",
    "    [0, 1, 0, 1, 0],\n",
    "    [1, 0, 0, 1, 0],\n",
    "    [1, 1, 0, 0, 1],\n",
    "    [0, 1, 1, 0, 1],\n",
    "    [1, 0, 1, 0, 1],\n",
    "    [1, 1, 0, 0, 1],\n",
    "    [1, 1, 1, 1, 1]\n",
    "]\n",
    "\n",
    "for a, b, cin, out, cout in test_vectors:\n",
    "    simulator.set_value(FullAdder.a, scope, bool(a))\n",
    "    simulator.set_value(FullAdder.b, scope, bool(b))\n",
    "    simulator.set_value(FullAdder.cin, scope, bool(cin))\n",
    "    simulator.evaluate()\n",
    "    assert simulator.get_value(FullAdder.out, scope) == bool(out)\n",
    "    assert simulator.get_value(FullAdder.cout, scope) == bool(cout)\n",
    "\n",
    "print(\"Success!\")"
   ]
  }
 ],
 "metadata": {
  "kernelspec": {
   "display_name": "Python 3",
   "language": "python",
   "name": "python3"
  },
  "language_info": {
   "codemirror_mode": {
    "name": "ipython",
    "version": 3
   },
   "file_extension": ".py",
   "mimetype": "text/x-python",
   "name": "python",
   "nbconvert_exporter": "python",
   "pygments_lexer": "ipython3",
   "version": "3.6.2"
  }
 },
 "nbformat": 4,
 "nbformat_minor": 2
}
