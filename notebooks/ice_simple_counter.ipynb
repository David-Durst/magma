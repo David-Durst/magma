{
 "cells": [
  {
   "cell_type": "markdown",
   "metadata": {},
   "source": [
    "# Counter"
   ]
  },
  {
   "cell_type": "code",
   "execution_count": 1,
   "metadata": {},
   "outputs": [
    {
     "name": "stdout",
     "output_type": "stream",
     "text": [
      "import mantle lattice ice40\n",
      "import mantle lattice mantle40\n"
     ]
    }
   ],
   "source": [
    "from magma import *\n",
    "from loam.boards.icestick import IceStick\n",
    "from mantle import *\n"
   ]
  },
  {
   "cell_type": "code",
   "execution_count": 2,
   "metadata": {},
   "outputs": [],
   "source": [
    "def DefineCounter(n, ce=False):\n",
    "\n",
    "    name = \"Counter{}{}\".format(n, ce)\n",
    "\n",
    "    args = [\"O\", Array(n, Out(Bit)), \"COUT\", Out(Bit)]\n",
    "    args += ClockInterface(ce)\n",
    "    Counter = DefineCircuit(name, *args)\n",
    "\n",
    "    add = Adders(n, cin=False, cout=True)\n",
    "    reg = Register(n, ce=ce)\n",
    "\n",
    "    wire( reg.O, add.I0 )\n",
    "    wire( int2seq(1, n), add.I1 )\n",
    "\n",
    "    reg(add)\n",
    "\n",
    "    wire( reg.O, Counter.O )\n",
    "\n",
    "    wire( add.COUT, Counter.COUT )\n",
    "\n",
    "    wireclock(Counter, reg)\n",
    "\n",
    "    EndCircuit()\n",
    "    return Counter\n"
   ]
  },
  {
   "cell_type": "code",
   "execution_count": 3,
   "metadata": {},
   "outputs": [
    {
     "name": "stdout",
     "output_type": "stream",
     "text": [
      "compiling Addcout4\n",
      "compiling Register4\n",
      "compiling Counter4False\n",
      "module Addcout4 (input [3:0] I0, input [3:0] I1, output [3:0] O, output  COUT);\n",
      "wire  inst0_O;\n",
      "wire  inst1_CO;\n",
      "wire  inst2_O;\n",
      "wire  inst3_CO;\n",
      "wire  inst4_O;\n",
      "wire  inst5_CO;\n",
      "wire  inst6_O;\n",
      "wire  inst7_CO;\n",
      "SB_LUT4 #(.LUT_INIT(16'hC33C)) inst0 (.I0(1'b0), .I1(I0[0]), .I2(I1[0]), .I3(1'b0), .O(inst0_O));\n",
      "SB_CARRY inst1 (.I0(I0[0]), .I1(I1[0]), .CI(1'b0), .CO(inst1_CO));\n",
      "SB_LUT4 #(.LUT_INIT(16'hC33C)) inst2 (.I0(1'b0), .I1(I0[1]), .I2(I1[1]), .I3(inst1_CO), .O(inst2_O));\n",
      "SB_CARRY inst3 (.I0(I0[1]), .I1(I1[1]), .CI(inst1_CO), .CO(inst3_CO));\n",
      "SB_LUT4 #(.LUT_INIT(16'hC33C)) inst4 (.I0(1'b0), .I1(I0[2]), .I2(I1[2]), .I3(inst3_CO), .O(inst4_O));\n",
      "SB_CARRY inst5 (.I0(I0[2]), .I1(I1[2]), .CI(inst3_CO), .CO(inst5_CO));\n",
      "SB_LUT4 #(.LUT_INIT(16'hC33C)) inst6 (.I0(1'b0), .I1(I0[3]), .I2(I1[3]), .I3(inst5_CO), .O(inst6_O));\n",
      "SB_CARRY inst7 (.I0(I0[3]), .I1(I1[3]), .CI(inst5_CO), .CO(inst7_CO));\n",
      "assign O = {inst6_O,inst4_O,inst2_O,inst0_O};\n",
      "assign COUT = inst7_CO;\n",
      "endmodule\n",
      "\n",
      "module Register4 (input [3:0] I, output [3:0] O, input  CLK);\n",
      "wire  inst0_Q;\n",
      "wire  inst1_Q;\n",
      "wire  inst2_Q;\n",
      "wire  inst3_Q;\n",
      "SB_DFF inst0 (.C(CLK), .D(I[0]), .Q(inst0_Q));\n",
      "SB_DFF inst1 (.C(CLK), .D(I[1]), .Q(inst1_Q));\n",
      "SB_DFF inst2 (.C(CLK), .D(I[2]), .Q(inst2_Q));\n",
      "SB_DFF inst3 (.C(CLK), .D(I[3]), .Q(inst3_Q));\n",
      "assign O = {inst3_Q,inst2_Q,inst1_Q,inst0_Q};\n",
      "endmodule\n",
      "\n",
      "module Counter4False (output [3:0] O, output  COUT, input  CLK);\n",
      "wire [3:0] inst0_O;\n",
      "wire  inst0_COUT;\n",
      "wire [3:0] inst1_O;\n",
      "Addcout4 inst0 (.I0(inst1_O), .I1({1'b0,1'b0,1'b0,1'b1}), .O(inst0_O), .COUT(inst0_COUT));\n",
      "Register4 inst1 (.I(inst0_O), .O(inst1_O), .CLK(CLK));\n",
      "assign O = inst1_O;\n",
      "assign COUT = inst0_COUT;\n",
      "endmodule\n",
      "\n",
      "\n"
     ]
    }
   ],
   "source": [
    "from magma.backend.verilog import compile as compile_verilog\n",
    "print(compile_verilog(DefineCounter(4)))"
   ]
  },
  {
   "cell_type": "code",
   "execution_count": 4,
   "metadata": {
    "scrolled": true
   },
   "outputs": [],
   "source": [
    "icestick = IceStick()\n",
    "\n",
    "icestick.Clock.on()\n",
    "icestick.D1.on()\n",
    "icestick.D2.on()\n",
    "icestick.D3.on()\n",
    "icestick.D4.on()\n",
    "\n",
    "main = icestick.main()\n",
    "\n",
    "counter4 = DefineCounter(4, ce=True)()\n",
    "counter23 = DefineCounter(23)()\n",
    "wire(counter23.COUT, counter4.CE)\n",
    "wire(counter4.O, [main.D1, main.D2, main.D3, main.D4])"
   ]
  },
  {
   "cell_type": "code",
   "execution_count": 5,
   "metadata": {
    "scrolled": true
   },
   "outputs": [
    {
     "name": "stdout",
     "output_type": "stream",
     "text": [
      "compiling Addcout4\n",
      "compiling Register4CE\n",
      "compiling Counter4True\n",
      "compiling Addcout23\n",
      "compiling Register23\n",
      "compiling Counter23False\n",
      "compiling main\n"
     ]
    }
   ],
   "source": [
    "compile(\"build/ice_counter\", main)"
   ]
  },
  {
   "cell_type": "code",
   "execution_count": 6,
   "metadata": {},
   "outputs": [
    {
     "name": "stderr",
     "output_type": "stream",
     "text": [
      "init..\n",
      "cdone: high\n",
      "reset..\n",
      "cdone: low\n",
      "flash ID: 0x20 0xBA 0x16 0x10 0x00 0x00 0x23 0x51 0x73 0x10 0x23 0x00 0x35 0x00 0x35 0x06 0x06 0x15 0x43 0xB6\n",
      "file size: 32220\n",
      "erase 64kB sector at 0x000000..\n",
      "programming..\n",
      "reading..\n",
      "VERIFY OK\n",
      "cdone: high\n",
      "Bye.\n"
     ]
    }
   ],
   "source": [
    "%%bash\n",
    "cd build\n",
    "yosys -q -p 'synth_ice40 -top main -blif ice_counter.blif' ice_counter.v\n",
    "arachne-pnr -q -d 1k -o ice_counter.txt -p ice_counter.pcf ice_counter.blif\n",
    "icepack ice_counter.txt ice_counter.bin\n",
    "\n",
    "iceprog ice_counter.bin"
   ]
  },
  {
   "cell_type": "code",
   "execution_count": null,
   "metadata": {
    "collapsed": true
   },
   "outputs": [],
   "source": []
  }
 ],
 "metadata": {
  "kernelspec": {
   "display_name": "Python 3",
   "language": "python",
   "name": "python3"
  },
  "language_info": {
   "codemirror_mode": {
    "name": "ipython",
    "version": 3
   },
   "file_extension": ".py",
   "mimetype": "text/x-python",
   "name": "python",
   "nbconvert_exporter": "python",
   "pygments_lexer": "ipython3",
   "version": "3.6.2"
  }
 },
 "nbformat": 4,
 "nbformat_minor": 2
}
