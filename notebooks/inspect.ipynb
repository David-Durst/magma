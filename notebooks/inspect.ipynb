{
 "cells": [
  {
   "cell_type": "code",
   "execution_count": 1,
   "metadata": {},
   "outputs": [
    {
     "ename": "ModuleNotFoundError",
     "evalue": "No module named 'magma'",
     "output_type": "error",
     "traceback": [
      "\u001b[0;31m---------------------------------------------------------------------------\u001b[0m",
      "\u001b[0;31mModuleNotFoundError\u001b[0m                       Traceback (most recent call last)",
      "\u001b[0;32m<ipython-input-1-3a89cfe06b6f>\u001b[0m in \u001b[0;36m<module>\u001b[0;34m()\u001b[0m\n\u001b[0;32m----> 1\u001b[0;31m \u001b[0;32mfrom\u001b[0m \u001b[0mmagma\u001b[0m \u001b[0;32mimport\u001b[0m \u001b[0mDefineCircuit\u001b[0m\u001b[0;34m,\u001b[0m \u001b[0mEndCircuit\u001b[0m\u001b[0;34m,\u001b[0m \u001b[0mIn\u001b[0m\u001b[0;34m,\u001b[0m \u001b[0mOut\u001b[0m\u001b[0;34m,\u001b[0m \u001b[0mBit\u001b[0m\u001b[0;34m,\u001b[0m \u001b[0mwire\u001b[0m\u001b[0;34m\u001b[0m\u001b[0m\n\u001b[0m\u001b[1;32m      2\u001b[0m \u001b[0;32mfrom\u001b[0m \u001b[0mmantle\u001b[0m\u001b[0;34m.\u001b[0m\u001b[0mlattice\u001b[0m\u001b[0;34m.\u001b[0m\u001b[0mmantle40\u001b[0m \u001b[0;32mimport\u001b[0m \u001b[0mAnd\u001b[0m\u001b[0;34m\u001b[0m\u001b[0m\n\u001b[1;32m      3\u001b[0m \u001b[0;32mfrom\u001b[0m \u001b[0mmagma\u001b[0m\u001b[0;34m.\u001b[0m\u001b[0mbackend\u001b[0m\u001b[0;34m.\u001b[0m\u001b[0mverilog\u001b[0m \u001b[0;32mimport\u001b[0m \u001b[0mcompile\u001b[0m\u001b[0;34m\u001b[0m\u001b[0m\n\u001b[1;32m      4\u001b[0m \u001b[0;32mfrom\u001b[0m \u001b[0mmagma\u001b[0m\u001b[0;34m.\u001b[0m\u001b[0mir\u001b[0m \u001b[0;32mimport\u001b[0m \u001b[0mcompile\u001b[0m \u001b[0;32mas\u001b[0m \u001b[0mcompileir\u001b[0m\u001b[0;34m\u001b[0m\u001b[0m\n",
      "\u001b[0;31mModuleNotFoundError\u001b[0m: No module named 'magma'"
     ]
    }
   ],
   "source": [
    "from magma import DefineCircuit, EndCircuit, In, Out, Bit, wire\n",
    "from mantle.lattice.mantle40 import And\n",
    "from magma.backend.verilog import compile\n",
    "from magma.ir import compile as compileir"
   ]
  },
  {
   "cell_type": "code",
   "execution_count": null,
   "metadata": {},
   "outputs": [],
   "source": [
    "c = DefineCircuit('logic', 'I0', In(Bit), 'I1', In(Bit), 'O', Out(Bit))\n",
    "and2 = And(2)\n",
    "wire( and2(c.I0,c.I1), c.O)\n",
    "#print(compileir(and2))\n",
    "EndCircuit()\n",
    "\n",
    "print(c, c.interface)\n",
    "#print(repr(c))\n",
    "print(compile(c))\n",
    "#print(compileir(c))"
   ]
  }
 ],
 "metadata": {
  "kernelspec": {
   "display_name": "Python 3",
   "language": "python",
   "name": "python3"
  },
  "language_info": {
   "codemirror_mode": {
    "name": "ipython",
    "version": 3
   },
   "file_extension": ".py",
   "mimetype": "text/x-python",
   "name": "python",
   "nbconvert_exporter": "python",
   "pygments_lexer": "ipython3",
   "version": "3.6.2"
  }
 },
 "nbformat": 4,
 "nbformat_minor": 2
}
