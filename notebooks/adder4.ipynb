{
 "cells": [
  {
   "cell_type": "code",
   "execution_count": 1,
   "metadata": {
    "collapsed": true
   },
   "outputs": [],
   "source": [
    "import sys\n",
    "sys.path.append(\"../examples\")\n",
    "from full_adder import FullAdder\n",
    "from magma import *"
   ]
  },
  {
   "cell_type": "code",
   "execution_count": 2,
   "metadata": {},
   "outputs": [],
   "source": [
    "T = Bits(4)\n",
    "class Adder4(Circuit):\n",
    "    name = \"Adder4\"\n",
    "    IO = [\"a\", In(T), \"b\", In(T), \"cin\", In(Bit), \"out\", Out(T), \"cout\", Out(Bit)]\n",
    "    @classmethod\n",
    "    def definition(io):\n",
    "        adder1 = FullAdder()\n",
    "        wire(io.a[0], adder1.a)\n",
    "        wire(io.b[0], adder1.b)\n",
    "        wire(io.cin, adder1.cin)\n",
    "        adder2 = FullAdder()\n",
    "        wire(io.a[1], adder2.a)\n",
    "        wire(io.b[1], adder2.b)\n",
    "        wire(adder1.cout, adder2.cin)\n",
    "        adder3 = FullAdder()\n",
    "        wire(io.a[2], adder3.a)\n",
    "        wire(io.b[2], adder3.b)\n",
    "        wire(adder2.cout, adder3.cin)\n",
    "        adder4 = FullAdder()\n",
    "        wire(io.a[3], adder4.a)\n",
    "        wire(io.b[3], adder4.b)\n",
    "        wire(adder3.cout, adder4.cin)\n",
    "        \n",
    "        wire(adder4.cout, io.cout)\n",
    "        wire([adder1.out, adder2.out, adder3.out, adder4.out], io.out)"
   ]
  },
  {
   "cell_type": "code",
   "execution_count": 3,
   "metadata": {},
   "outputs": [
    {
     "name": "stdout",
     "output_type": "stream",
     "text": [
      "Success!\n"
     ]
    }
   ],
   "source": [
    "from magma.python_simulator import PythonSimulator\n",
    "from magma.scope import Scope\n",
    "from magma.bit_vector import BitVector\n",
    "\n",
    "simulator = PythonSimulator(Adder4)\n",
    "scope = Scope()\n",
    "simulator.set_value(Adder4.a, scope, BitVector(2, num_bits=4).as_bool_list())\n",
    "simulator.set_value(Adder4.b, scope, BitVector(3, num_bits=4).as_bool_list())\n",
    "simulator.set_value(Adder4.cin, scope, True)\n",
    "simulator.evaluate()\n",
    "assert simulator.get_value(Adder4.out, scope) == int2seq(6, 4)\n",
    "assert simulator.get_value(Adder4.cout, scope) == False\n",
    "print(\"Success!\")"
   ]
  }
 ],
 "metadata": {
  "kernelspec": {
   "display_name": "Python 3",
   "language": "python",
   "name": "python3"
  },
  "language_info": {
   "codemirror_mode": {
    "name": "ipython",
    "version": 3
   },
   "file_extension": ".py",
   "mimetype": "text/x-python",
   "name": "python",
   "nbconvert_exporter": "python",
   "pygments_lexer": "ipython3",
   "version": "3.6.2"
  }
 },
 "nbformat": 4,
 "nbformat_minor": 2
}
