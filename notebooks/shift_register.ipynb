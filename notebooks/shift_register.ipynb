{
 "cells": [
  {
   "cell_type": "code",
   "execution_count": 1,
   "metadata": {
    "collapsed": true
   },
   "outputs": [],
   "source": [
    "import sys\n",
    "sys.path.append(\"../examples\")\n",
    "from full_adder import FullAdder"
   ]
  },
  {
   "cell_type": "code",
   "execution_count": 2,
   "metadata": {
    "collapsed": true
   },
   "outputs": [],
   "source": [
    "from magma import *\n",
    "from magma.primitives import DefineRegister\n",
    "\n",
    "N = 4\n",
    "Register4 = DefineRegister(4)\n",
    "T = Bits(N)\n",
    "\n",
    "class ShiftRegister(Circuit):\n",
    "    name = \"ShiftRegister\"\n",
    "    IO = [\"I\", In(T), \"O\", Out(T), \"CLK\", In(Bit)]\n",
    "    @classmethod\n",
    "    def definition(io):\n",
    "        regs = [Register4() for _ in range(N)]\n",
    "        [wire(io.CLK, reg.clk) for reg in regs]  # TODO: Clean up this clock wiring\n",
    "        wire(io.I, regs[0].D)\n",
    "        fold(regs, foldargs={\"D\":\"Q\"})\n",
    "        wire(regs[-1].Q, io.O)"
   ]
  },
  {
   "cell_type": "code",
   "execution_count": 3,
   "metadata": {},
   "outputs": [
    {
     "name": "stdout",
     "output_type": "stream",
     "text": [
      "compiling ShiftRegister\n",
      "module ShiftRegister (input [3:0] I, output [3:0] O, input  CLK);\n",
      "wire [3:0] inst0_Q;\n",
      "wire [3:0] inst1_Q;\n",
      "wire [3:0] inst2_Q;\n",
      "wire [3:0] inst3_Q;\n",
      "Reg_P #(.WIDTH(4)) inst0 (.D(I), .clk(CLK), .Q(inst0_Q));\n",
      "Reg_P #(.WIDTH(4)) inst1 (.D(inst0_Q), .clk(CLK), .Q(inst1_Q));\n",
      "Reg_P #(.WIDTH(4)) inst2 (.D(inst1_Q), .clk(CLK), .Q(inst2_Q));\n",
      "Reg_P #(.WIDTH(4)) inst3 (.D(inst2_Q), .clk(CLK), .Q(inst3_Q));\n",
      "assign O = inst3_Q;\n",
      "endmodule\n",
      "\n",
      "\n"
     ]
    }
   ],
   "source": [
    "from magma.backend.verilog import compile as compile_verilog\n",
    "print(compile_verilog(ShiftRegister))"
   ]
  },
  {
   "cell_type": "code",
   "execution_count": 4,
   "metadata": {},
   "outputs": [
    {
     "name": "stdout",
     "output_type": "stream",
     "text": [
      "[0, 0, 0, 0, 0, 0, 0, 0, 1, 1, 2, 2, 3, 3, 4, 4, 5, 5, 6, 6, 7, 7, 8, 8, 9, 9, 10, 10, 11, 11, 12, 12]\n"
     ]
    }
   ],
   "source": [
    "from magma.python_simulator import PythonSimulator\n",
    "from magma.scope import Scope\n",
    "from magma.bit_vector import BitVector\n",
    "\n",
    "simulator = PythonSimulator(ShiftRegister)\n",
    "scope = Scope()\n",
    "O0 = []\n",
    "O1 = []\n",
    "O2 = []\n",
    "O3 = []\n",
    "for i in range(0, 1 << N):\n",
    "    simulator.set_value(ShiftRegister.I, scope, [bool(x) for x in int2seq(i, N)])\n",
    "    for j in range(2):\n",
    "        simulator.step()\n",
    "        simulator.evaluate()\n",
    "        O = simulator.get_value(ShiftRegister.O, scope)\n",
    "        O0.append(O[0])\n",
    "        O1.append(O[1])\n",
    "        O2.append(O[2])\n",
    "        O3.append(O[3])\n",
    "\n",
    "print([seq2int(val) for val in zip(O0, O1, O2, O3)])"
   ]
  },
  {
   "cell_type": "code",
   "execution_count": 5,
   "metadata": {},
   "outputs": [
    {
     "data": {
      "image/png": "[encoded data removed]",
      "text/plain": [
       "<matplotlib.figure.Figure at 0x103c2dcf8>"
      ]
     },
     "metadata": {},
     "output_type": "display_data"
    }
   ],
   "source": [
    "import matplotlib.pyplot as plt\n",
    "import numpy as np\n",
    "\n",
    "n = len(O1)//2\n",
    "t = np.repeat(0.5*np.arange(2*n+1),2)[1:-1]\n",
    "clock = np.tile(np.array([1,1,0,0]),n)\n",
    "\n",
    "O0 = np.repeat(np.array(O0),2)\n",
    "O1 = np.repeat(np.array(O1),2)\n",
    "O2 = np.repeat(np.array(O2),2)\n",
    "O3 = np.repeat(np.array(O3),2)\n",
    "\n",
    "plt.text(-1.5, 4.25, 'clock')\n",
    "plt.plot(t, 0.5*clock+4, 'r', linewidth = 2)\n",
    "plt.text(-1.5, 3.25, 'O[0]')\n",
    "plt.plot(t, 0.5*O0+3,    'r', linewidth = 2)\n",
    "plt.text(-1.5, 2.25, 'O[1]')\n",
    "plt.plot(t, 0.5*O1+2,    'r', linewidth = 2)\n",
    "plt.text(-1.5, 1.25, 'O[2]')\n",
    "plt.plot(t, 0.5*O2+1,    'r', linewidth = 2)\n",
    "plt.text(-1.5, 0.25, 'O[3]')\n",
    "plt.plot(t, 0.5*O3,    'r', linewidth = 2)\n",
    "plt.xlim([0,n])\n",
    "plt.ylim([0,5])\n",
    "\n",
    "plt.gca().axis('off')\n",
    "plt.show()"
   ]
  },
  {
   "cell_type": "code",
   "execution_count": null,
   "metadata": {
    "collapsed": true
   },
   "outputs": [],
   "source": []
  }
 ],
 "metadata": {
  "kernelspec": {
   "display_name": "Python 3",
   "language": "python",
   "name": "python3"
  },
  "language_info": {
   "codemirror_mode": {
    "name": "ipython",
    "version": 3
   },
   "file_extension": ".py",
   "mimetype": "text/x-python",
   "name": "python",
   "nbconvert_exporter": "python",
   "pygments_lexer": "ipython3",
   "version": "3.6.2"
  }
 },
 "nbformat": 4,
 "nbformat_minor": 2
}
