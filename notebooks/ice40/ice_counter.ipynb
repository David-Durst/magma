{
 "cells": [
  {
   "cell_type": "markdown",
   "metadata": {},
   "source": [
    "# Full Adder\n",
    "Below is a Logisim diagram a Full Adder circuit implementation. \n",
    "![](images/full_adder_logisim.png)"
   ]
  },
  {
   "cell_type": "code",
   "execution_count": 1,
   "metadata": {
    "collapsed": true
   },
   "outputs": [],
   "source": [
    "from magma import *\n",
    "from magma.backend.verilog import compile as compile_verilog"
   ]
  },
  {
   "cell_type": "markdown",
   "metadata": {},
   "source": [
    "![](images/SB_LUT4_diagram.png)\n",
    "![](images/SB_LUT4_verilog.png)"
   ]
  },
  {
   "cell_type": "code",
   "execution_count": 2,
   "metadata": {
    "collapsed": true
   },
   "outputs": [],
   "source": [
    "SB_LUT4 = DeclareCircuit('SB_LUT4',\n",
    "                         \"I0\", In(Bit),\n",
    "                         \"I1\", In(Bit),\n",
    "                         \"I2\", In(Bit),\n",
    "                         \"I3\", In(Bit),\n",
    "                         \"O\",  Out(Bit))\n",
    "\n",
    "A0 = 0xAAAA\n",
    "A1 = 0xCCCC\n",
    "A2 = 0xF0F0\n",
    "A3 = 0xFF00"
   ]
  },
  {
   "cell_type": "code",
   "execution_count": 3,
   "metadata": {
    "collapsed": true
   },
   "outputs": [],
   "source": [
    "class And2(Circuit):\n",
    "    name = \"And2\"\n",
    "    IO = [\"I0\", In(Bit), \"I1\", In(Bit), \"O\", Out(Bit)]\n",
    "    \n",
    "    @classmethod\n",
    "    def definition(io):\n",
    "        lut = SB_LUT4(LUT_INIT=(A0&A1, 16))\n",
    "        wire(io.I0, lut.I0)\n",
    "        wire(io.I1, lut.I1)\n",
    "        wire(0, lut.I2)\n",
    "        wire(0, lut.I3)\n",
    "        wire(lut.O, io.O)\n",
    "\n",
    "class Or3(Circuit):\n",
    "    name = \"Or3\"\n",
    "    IO = [\"I0\", In(Bit), \"I1\", In(Bit), \"I2\", In(Bit), \"O\", Out(Bit)]\n",
    "    \n",
    "    @classmethod\n",
    "    def definition(io):\n",
    "        lut = SB_LUT4(LUT_INIT=(A0|A1|A3, 16))\n",
    "        wire(io.I0, lut.I0)\n",
    "        wire(io.I1, lut.I1)\n",
    "        wire(io.I2, lut.I2)\n",
    "        wire(0, lut.I3)\n",
    "        wire(lut.O, io.O)\n",
    "\n",
    "\n",
    "class Xor3(Circuit):\n",
    "    name = \"Xor3\"\n",
    "    IO = [\"I0\", In(Bit), \"I1\", In(Bit), \"I2\", In(Bit), \"O\", Out(Bit)]\n",
    "    \n",
    "    @classmethod\n",
    "    def definition(io):\n",
    "        lut = SB_LUT4(LUT_INIT=(A0^A1^A3, 16))\n",
    "        wire(io.I0, lut.I0)\n",
    "        wire(io.I1, lut.I1)\n",
    "        wire(io.I2, lut.I2)\n",
    "        wire(0, lut.I3)\n",
    "        wire(lut.O, io.O)"
   ]
  },
  {
   "cell_type": "code",
   "execution_count": 4,
   "metadata": {
    "collapsed": true
   },
   "outputs": [],
   "source": [
    "class FullAdder(Circuit):\n",
    "    name = \"FullAdder\"\n",
    "    IO = [\"a\", In(Bit), \"b\", In(Bit), \"cin\", In(Bit), \n",
    "          \"out\", Out(Bit), \"cout\", Out(Bit)]\n",
    "    @classmethod\n",
    "    def definition(io):\n",
    "        # Generate the sum\n",
    "        out = Xor3()(io.a, io.b, io.cin)\n",
    "        wire(out, io.out)\n",
    "        # Generate the carry\n",
    "        a_and_b = And2()(io.a, io.b)\n",
    "        b_and_cin = And2()(io.b, io.cin)\n",
    "        a_and_cin = And2()(io.a, io.cin)\n",
    "        cout = Or3()(a_and_b, b_and_cin, a_and_cin)\n",
    "        wire(cout, io.cout)\n"
   ]
  },
  {
   "cell_type": "code",
   "execution_count": 5,
   "metadata": {},
   "outputs": [
    {
     "name": "stdout",
     "output_type": "stream",
     "text": [
      "compiling Xor3\n",
      "compiling And2\n",
      "compiling Or3\n",
      "compiling FullAdder\n",
      "module Xor3 (input  I0, input  I1, input  I2, output  O);\n",
      "wire  inst0_O;\n",
      "SB_LUT4 #(.LUT_INIT(16'h9966)) inst0 (.I0(I0), .I1(I1), .I2(I2), .I3(1'b0), .O(inst0_O));\n",
      "assign O = inst0_O;\n",
      "endmodule\n",
      "\n",
      "module And2 (input  I0, input  I1, output  O);\n",
      "wire  inst0_O;\n",
      "SB_LUT4 #(.LUT_INIT(16'h8888)) inst0 (.I0(I0), .I1(I1), .I2(1'b0), .I3(1'b0), .O(inst0_O));\n",
      "assign O = inst0_O;\n",
      "endmodule\n",
      "\n",
      "module Or3 (input  I0, input  I1, input  I2, output  O);\n",
      "wire  inst0_O;\n",
      "SB_LUT4 #(.LUT_INIT(16'hFFEE)) inst0 (.I0(I0), .I1(I1), .I2(I2), .I3(1'b0), .O(inst0_O));\n",
      "assign O = inst0_O;\n",
      "endmodule\n",
      "\n",
      "module FullAdder (input  a, input  b, input  cin, output  out, output  cout);\n",
      "wire  inst0_O;\n",
      "wire  inst1_O;\n",
      "wire  inst2_O;\n",
      "wire  inst3_O;\n",
      "wire  inst4_O;\n",
      "Xor3 inst0 (.I0(a), .I1(b), .I2(cin), .O(inst0_O));\n",
      "And2 inst1 (.I0(a), .I1(b), .O(inst1_O));\n",
      "And2 inst2 (.I0(b), .I1(cin), .O(inst2_O));\n",
      "And2 inst3 (.I0(a), .I1(cin), .O(inst3_O));\n",
      "Or3 inst4 (.I0(inst1_O), .I1(inst2_O), .I2(inst3_O), .O(inst4_O));\n",
      "assign out = inst0_O;\n",
      "assign cout = inst4_O;\n",
      "endmodule\n",
      "\n",
      "\n"
     ]
    }
   ],
   "source": [
    "print(compile_verilog(FullAdder))"
   ]
  },
  {
   "cell_type": "code",
   "execution_count": 6,
   "metadata": {
    "collapsed": true
   },
   "outputs": [],
   "source": [
    "def DefineAdder(width):\n",
    "    T = UInt(width)\n",
    "    class Adder(Circuit):\n",
    "        name = \"Adder{}\".format(width)\n",
    "        IO = [\"a\", In(T), \"b\", In(T), \"cin\", In(Bit), \"out\", Out(T), \"cout\", Out(Bit)]\n",
    "        @classmethod\n",
    "        def definition(io):\n",
    "            adders = [FullAdder() for _ in range(width)]\n",
    "            circ = braid(adders, foldargs={\"cin\":\"cout\"})\n",
    "            wire(io.a, circ.a)\n",
    "            wire(io.b, circ.b)\n",
    "            wire(io.cin, circ.cin)\n",
    "            wire(io.cout, circ.cout)\n",
    "            wire(io.out, circ.out)\n",
    "    return Adder"
   ]
  },
  {
   "cell_type": "code",
   "execution_count": 7,
   "metadata": {},
   "outputs": [
    {
     "name": "stdout",
     "output_type": "stream",
     "text": [
      "compiling Xor3\n",
      "compiling And2\n",
      "compiling Or3\n",
      "compiling FullAdder\n",
      "compiling Adder4\n",
      "module Xor3 (input  I0, input  I1, input  I2, output  O);\n",
      "wire  inst0_O;\n",
      "SB_LUT4 #(.LUT_INIT(16'h9966)) inst0 (.I0(I0), .I1(I1), .I2(I2), .I3(1'b0), .O(inst0_O));\n",
      "assign O = inst0_O;\n",
      "endmodule\n",
      "\n",
      "module And2 (input  I0, input  I1, output  O);\n",
      "wire  inst0_O;\n",
      "SB_LUT4 #(.LUT_INIT(16'h8888)) inst0 (.I0(I0), .I1(I1), .I2(1'b0), .I3(1'b0), .O(inst0_O));\n",
      "assign O = inst0_O;\n",
      "endmodule\n",
      "\n",
      "module Or3 (input  I0, input  I1, input  I2, output  O);\n",
      "wire  inst0_O;\n",
      "SB_LUT4 #(.LUT_INIT(16'hFFEE)) inst0 (.I0(I0), .I1(I1), .I2(I2), .I3(1'b0), .O(inst0_O));\n",
      "assign O = inst0_O;\n",
      "endmodule\n",
      "\n",
      "module FullAdder (input  a, input  b, input  cin, output  out, output  cout);\n",
      "wire  inst0_O;\n",
      "wire  inst1_O;\n",
      "wire  inst2_O;\n",
      "wire  inst3_O;\n",
      "wire  inst4_O;\n",
      "Xor3 inst0 (.I0(a), .I1(b), .I2(cin), .O(inst0_O));\n",
      "And2 inst1 (.I0(a), .I1(b), .O(inst1_O));\n",
      "And2 inst2 (.I0(b), .I1(cin), .O(inst2_O));\n",
      "And2 inst3 (.I0(a), .I1(cin), .O(inst3_O));\n",
      "Or3 inst4 (.I0(inst1_O), .I1(inst2_O), .I2(inst3_O), .O(inst4_O));\n",
      "assign out = inst0_O;\n",
      "assign cout = inst4_O;\n",
      "endmodule\n",
      "\n",
      "module Adder4 (input [3:0] a, input [3:0] b, input  cin, output [3:0] out, output  cout);\n",
      "wire  inst0_out;\n",
      "wire  inst0_cout;\n",
      "wire  inst1_out;\n",
      "wire  inst1_cout;\n",
      "wire  inst2_out;\n",
      "wire  inst2_cout;\n",
      "wire  inst3_out;\n",
      "wire  inst3_cout;\n",
      "FullAdder inst0 (.a(a[0]), .b(b[0]), .cin(cin), .out(inst0_out), .cout(inst0_cout));\n",
      "FullAdder inst1 (.a(a[1]), .b(b[1]), .cin(inst0_cout), .out(inst1_out), .cout(inst1_cout));\n",
      "FullAdder inst2 (.a(a[2]), .b(b[2]), .cin(inst1_cout), .out(inst2_out), .cout(inst2_cout));\n",
      "FullAdder inst3 (.a(a[3]), .b(b[3]), .cin(inst2_cout), .out(inst3_out), .cout(inst3_cout));\n",
      "assign out = {inst3_out,inst2_out,inst1_out,inst0_out};\n",
      "assign cout = inst3_cout;\n",
      "endmodule\n",
      "\n",
      "\n"
     ]
    }
   ],
   "source": [
    "print(compile_verilog(DefineAdder(4)))"
   ]
  },
  {
   "cell_type": "markdown",
   "metadata": {},
   "source": [
    "# Register\n",
    "Below is the documentation for the `SB_DFFE` module for the Lattice iCE architecture.\n",
    "![](images/SB_DFFE_diagram.png)\n",
    "\n",
    "In magma we can declare a circuit that implements the `SB_DFFE` interface using `DeclareCircuit`"
   ]
  },
  {
   "cell_type": "code",
   "execution_count": 8,
   "metadata": {
    "collapsed": true
   },
   "outputs": [],
   "source": [
    "SB_DFFE = DeclareCircuit('SB_DFFE',\n",
    "    \"C\", In(Bit), \"D\", In(Bit), \"E\", In(Bit), \"Q\", Out(Bit))"
   ]
  },
  {
   "cell_type": "code",
   "execution_count": 9,
   "metadata": {
    "collapsed": true
   },
   "outputs": [],
   "source": [
    "def DefineRegister(width):\n",
    "    T = UInt(width)\n",
    "    class Register(Circuit):\n",
    "        name = \"Register{}\".format(width)\n",
    "        IO = [\"I\", In(T), \"O\", Out(T), \"CLK\", In(Bit), \"CE\", In(Bit)]\n",
    "        @classmethod\n",
    "        def definition(io):\n",
    "            ffs = join([SB_DFFE() for _ in range(width)])\n",
    "            wire(io.I, ffs.D)\n",
    "            wire(io.O, ffs.Q)\n",
    "            wire([io.CLK for _ in range(width)], ffs.C)\n",
    "            wire([io.CE for _ in range(width)], ffs.E)\n",
    "    return Register"
   ]
  },
  {
   "cell_type": "code",
   "execution_count": 10,
   "metadata": {},
   "outputs": [
    {
     "name": "stdout",
     "output_type": "stream",
     "text": [
      "compiling Register4\n",
      "module Register4 (input [3:0] I, output [3:0] O, input  CLK, input  CE);\n",
      "wire  inst0_Q;\n",
      "wire  inst1_Q;\n",
      "wire  inst2_Q;\n",
      "wire  inst3_Q;\n",
      "SB_DFFE inst0 (.C(CLK), .D(I[0]), .E(CE), .Q(inst0_Q));\n",
      "SB_DFFE inst1 (.C(CLK), .D(I[1]), .E(CE), .Q(inst1_Q));\n",
      "SB_DFFE inst2 (.C(CLK), .D(I[2]), .E(CE), .Q(inst2_Q));\n",
      "SB_DFFE inst3 (.C(CLK), .D(I[3]), .E(CE), .Q(inst3_Q));\n",
      "assign O = {inst3_Q,inst2_Q,inst1_Q,inst0_Q};\n",
      "endmodule\n",
      "\n",
      "\n"
     ]
    }
   ],
   "source": [
    "print(compile_verilog(DefineRegister(4)))"
   ]
  },
  {
   "cell_type": "code",
   "execution_count": 11,
   "metadata": {
    "collapsed": true
   },
   "outputs": [],
   "source": [
    "def DefineCounter(width):\n",
    "    T = UInt(width)\n",
    "    class Counter(Circuit):\n",
    "        name = \"Counter{}\".format(width)\n",
    "        IO = [\"O\", Out(T), \"cout\", Out(Bit), \"CLK\", In(Bit), \"CE\", In(Bit)]\n",
    "        @classmethod\n",
    "        def definition(io):\n",
    "            reg = DefineRegister(width)()\n",
    "            adder = DefineAdder(width)()\n",
    "            wire(reg.O, adder.a)\n",
    "            wire(int2seq(0, width), adder.b)\n",
    "            wire(1, adder.cin)\n",
    "            wire(adder.out, reg.I)\n",
    "            wire(adder.cout, io.cout)\n",
    "            wire(reg.O, io.O)\n",
    "            wire(io.CLK, reg.CLK)\n",
    "            wire(io.CE, reg.CE)\n",
    "    return Counter"
   ]
  },
  {
   "cell_type": "code",
   "execution_count": 12,
   "metadata": {},
   "outputs": [
    {
     "name": "stdout",
     "output_type": "stream",
     "text": [
      "compiling Register4\n",
      "compiling Xor3\n",
      "compiling And2\n",
      "compiling Or3\n",
      "compiling FullAdder\n",
      "compiling Adder4\n",
      "compiling Counter4\n",
      "module Register4 (input [3:0] I, output [3:0] O, input  CLK, input  CE);\n",
      "wire  inst0_Q;\n",
      "wire  inst1_Q;\n",
      "wire  inst2_Q;\n",
      "wire  inst3_Q;\n",
      "SB_DFFE inst0 (.C(CLK), .D(I[0]), .E(CE), .Q(inst0_Q));\n",
      "SB_DFFE inst1 (.C(CLK), .D(I[1]), .E(CE), .Q(inst1_Q));\n",
      "SB_DFFE inst2 (.C(CLK), .D(I[2]), .E(CE), .Q(inst2_Q));\n",
      "SB_DFFE inst3 (.C(CLK), .D(I[3]), .E(CE), .Q(inst3_Q));\n",
      "assign O = {inst3_Q,inst2_Q,inst1_Q,inst0_Q};\n",
      "endmodule\n",
      "\n",
      "module Xor3 (input  I0, input  I1, input  I2, output  O);\n",
      "wire  inst0_O;\n",
      "SB_LUT4 #(.LUT_INIT(16'h9966)) inst0 (.I0(I0), .I1(I1), .I2(I2), .I3(1'b0), .O(inst0_O));\n",
      "assign O = inst0_O;\n",
      "endmodule\n",
      "\n",
      "module And2 (input  I0, input  I1, output  O);\n",
      "wire  inst0_O;\n",
      "SB_LUT4 #(.LUT_INIT(16'h8888)) inst0 (.I0(I0), .I1(I1), .I2(1'b0), .I3(1'b0), .O(inst0_O));\n",
      "assign O = inst0_O;\n",
      "endmodule\n",
      "\n",
      "module Or3 (input  I0, input  I1, input  I2, output  O);\n",
      "wire  inst0_O;\n",
      "SB_LUT4 #(.LUT_INIT(16'hFFEE)) inst0 (.I0(I0), .I1(I1), .I2(I2), .I3(1'b0), .O(inst0_O));\n",
      "assign O = inst0_O;\n",
      "endmodule\n",
      "\n",
      "module FullAdder (input  a, input  b, input  cin, output  out, output  cout);\n",
      "wire  inst0_O;\n",
      "wire  inst1_O;\n",
      "wire  inst2_O;\n",
      "wire  inst3_O;\n",
      "wire  inst4_O;\n",
      "Xor3 inst0 (.I0(a), .I1(b), .I2(cin), .O(inst0_O));\n",
      "And2 inst1 (.I0(a), .I1(b), .O(inst1_O));\n",
      "And2 inst2 (.I0(b), .I1(cin), .O(inst2_O));\n",
      "And2 inst3 (.I0(a), .I1(cin), .O(inst3_O));\n",
      "Or3 inst4 (.I0(inst1_O), .I1(inst2_O), .I2(inst3_O), .O(inst4_O));\n",
      "assign out = inst0_O;\n",
      "assign cout = inst4_O;\n",
      "endmodule\n",
      "\n",
      "module Adder4 (input [3:0] a, input [3:0] b, input  cin, output [3:0] out, output  cout);\n",
      "wire  inst0_out;\n",
      "wire  inst0_cout;\n",
      "wire  inst1_out;\n",
      "wire  inst1_cout;\n",
      "wire  inst2_out;\n",
      "wire  inst2_cout;\n",
      "wire  inst3_out;\n",
      "wire  inst3_cout;\n",
      "FullAdder inst0 (.a(a[0]), .b(b[0]), .cin(cin), .out(inst0_out), .cout(inst0_cout));\n",
      "FullAdder inst1 (.a(a[1]), .b(b[1]), .cin(inst0_cout), .out(inst1_out), .cout(inst1_cout));\n",
      "FullAdder inst2 (.a(a[2]), .b(b[2]), .cin(inst1_cout), .out(inst2_out), .cout(inst2_cout));\n",
      "FullAdder inst3 (.a(a[3]), .b(b[3]), .cin(inst2_cout), .out(inst3_out), .cout(inst3_cout));\n",
      "assign out = {inst3_out,inst2_out,inst1_out,inst0_out};\n",
      "assign cout = inst3_cout;\n",
      "endmodule\n",
      "\n",
      "module Counter4 (output [3:0] O, output  cout, input  CLK, input  CE);\n",
      "wire [3:0] inst0_O;\n",
      "wire [3:0] inst1_out;\n",
      "wire  inst1_cout;\n",
      "Register4 inst0 (.I(inst1_out), .O(inst0_O), .CLK(CLK), .CE(CE));\n",
      "Adder4 inst1 (.a(inst0_O), .b({1'b0,1'b0,1'b0,1'b0}), .cin(1'b1), .out(inst1_out), .cout(inst1_cout));\n",
      "assign O = inst0_O;\n",
      "assign cout = inst1_cout;\n",
      "endmodule\n",
      "\n",
      "\n"
     ]
    }
   ],
   "source": [
    "print(compile_verilog(DefineCounter(4)))"
   ]
  },
  {
   "cell_type": "code",
   "execution_count": 13,
   "metadata": {},
   "outputs": [
    {
     "name": "stdout",
     "output_type": "stream",
     "text": [
      "import mantle lattice ice40\n",
      "import mantle lattice mantle40\n"
     ]
    }
   ],
   "source": [
    "from loam.boards.icestick import IceStick\n",
    "icestick = IceStick()\n",
    "\n",
    "icestick.Clock.on()\n",
    "icestick.D1.on()\n",
    "icestick.D2.on()\n",
    "icestick.D3.on()\n",
    "icestick.D4.on()\n",
    "\n",
    "main = icestick.main()\n",
    "counter4 = DefineCounter(4)()\n",
    "counter23 = DefineCounter(23)()\n",
    "wire(1, counter23.CE)\n",
    "wire(counter23.cout, counter4.CE)\n",
    "\n",
    "wire(counter4.O, [main.D1, main.D2, main.D3, main.D4])\n",
    "\n",
    "# print(compile_verilog(main))"
   ]
  },
  {
   "cell_type": "code",
   "execution_count": 14,
   "metadata": {},
   "outputs": [
    {
     "name": "stdout",
     "output_type": "stream",
     "text": [
      "compiling Register4\n",
      "compiling Xor3\n",
      "compiling And2\n",
      "compiling Or3\n",
      "compiling FullAdder\n",
      "compiling Adder4\n",
      "compiling Counter4\n",
      "compiling Register23\n",
      "compiling Adder23\n",
      "compiling Counter23\n",
      "compiling main\n"
     ]
    }
   ],
   "source": [
    "compile(\"build/ice_counter\", main)"
   ]
  },
  {
   "cell_type": "code",
   "execution_count": 15,
   "metadata": {},
   "outputs": [
    {
     "name": "stderr",
     "output_type": "stream",
     "text": [
      "init..\n",
      "cdone: high\n",
      "reset..\n",
      "cdone: low\n",
      "flash ID: 0x20 0xBA 0x16 0x10 0x00 0x00 0x23 0x51 0x73 0x10 0x23 0x00 0x35 0x00 0x35 0x06 0x06 0x15 0x43 0xB6\n",
      "file size: 32220\n",
      "erase 64kB sector at 0x000000..\n",
      "programming..\n",
      "reading..\n",
      "VERIFY OK\n",
      "cdone: high\n",
      "Bye.\n"
     ]
    }
   ],
   "source": [
    "%%bash\n",
    "cd build\n",
    "yosys -q -p 'synth_ice40 -top main -blif ice_counter.blif' ice_counter.v\n",
    "arachne-pnr -q -d 1k -o ice_counter.txt -p ice_counter.pcf ice_counter.blif\n",
    "icepack ice_counter.txt ice_counter.bin\n",
    "\n",
    "# sudo kextunload -b com.apple.driver.AppleUSBFTDI\n",
    "iceprog ice_counter.bin\n",
    "# sudo kextload -b com.apple.driver.AppleUSBFTDI"
   ]
  },
  {
   "cell_type": "code",
   "execution_count": null,
   "metadata": {
    "collapsed": true
   },
   "outputs": [],
   "source": []
  }
 ],
 "metadata": {
  "kernelspec": {
   "display_name": "Python 3",
   "language": "python",
   "name": "python3"
  },
  "language_info": {
   "codemirror_mode": {
    "name": "ipython",
    "version": 3
   },
   "file_extension": ".py",
   "mimetype": "text/x-python",
   "name": "python",
   "nbconvert_exporter": "python",
   "pygments_lexer": "ipython3",
   "version": "3.6.2"
  }
 },
 "nbformat": 4,
 "nbformat_minor": 2
}
