{
 "cells": [
  {
   "cell_type": "code",
   "execution_count": 1,
   "metadata": {},
   "outputs": [
    {
     "name": "stdout",
     "output_type": "stream",
     "text": [
      "import mantle lattice ice40\n",
      "import mantle lattice mantle40\n"
     ]
    }
   ],
   "source": [
    "import magma as m\n",
    "from magma.bitutils import int2seq\n",
    "from loam.boards.icestick import IceStick\n"
   ]
  },
  {
   "cell_type": "markdown",
   "metadata": {},
   "source": [
    "![](./images/counter_diagram.jpg)"
   ]
  },
  {
   "cell_type": "markdown",
   "metadata": {},
   "source": [
    "We will use the `DefineCircuit` pattern to define a counter module.\n",
    "\n",
    "`DefineCircuit` takes as a firt argument the name of the circuit, and then an even number of arguments of the form `port1_name, port1_type, port2_name, port2_type, ...`. By using the python `*` operator, we can programmatically construct a list of argument names and types.\n",
    "\n",
    "For this example we compose a list literal with the output of the `ClockInterface` function which produces a standard set of inputs for a clock, clock enable, and reset. In this case, we only include a clock (by default) and an optional clock enable `has_ce=has_ce`.\n",
    "\n",
    "We instance an n-bit `Adders` and `Register` from the `mantle` library. We wire them up based on our counter diagram above. Finally, we call `m.wireclock` to automatically wire up the clock inputs to the `Register` instance."
   ]
  },
  {
   "cell_type": "code",
   "execution_count": 2,
   "metadata": {
    "collapsed": true
   },
   "outputs": [],
   "source": [
    "from mantle import Adders, Register",
    "\n",
    "def DefineCounter(n, has_ce=False):\n",
    "\n",
    "    name = \"Counter{}{}\".format(n, has_ce)\n",
    "\n",
    "    args = [\"O\", m.Out(m.Bits(n)), \"COUT\", m.Out(m.Bit)] + m.ClockInterface(has_ce=has_ce)\n",
    "    Counter = m.DefineCircuit(name, *args)\n",
    "\n",
    "    add = Adders(n, cin=False, cout=True)\n",
    "    reg = Register(n, has_ce=has_ce)\n",
    "\n",
    "    m.wire( reg.O, add.I0 )\n",
    "    m.wire( int2seq(1, n), add.I1 )\n",
    "\n",
    "    m.wire(add.O, reg.I)\n",
    "\n",
    "    m.wire( reg.O, Counter.O )\n",
    "\n",
    "    m.wire( add.COUT, Counter.COUT )\n",
    "\n",
    "    m.wireclock(Counter, reg)\n",
    "\n",
    "    m.EndDefine()\n",
    "    return Counter"
   ]
  },
  {
   "cell_type": "markdown",
   "metadata": {},
   "source": [
    "We can inspect the generated verilog"
   ]
  },
  {
   "cell_type": "code",
   "execution_count": 3,
   "metadata": {},
   "outputs": [
    {
     "name": "stdout",
     "output_type": "stream",
     "text": [
      "compiling FullAdder\n",
      "compiling AdderCout4\n",
      "compiling Register4\n",
      "compiling Counter4False\n",
      "module FullAdder (input  I0, input  I1, input  CIN, output  O, output  COUT);\n",
      "wire  inst0_O;\n",
      "wire  inst1_CO;\n",
      "SB_LUT4 #(.LUT_INIT(16'h9696)) inst0 (.I0(I0), .I1(I1), .I2(CIN), .I3(1'b0), .O(inst0_O));\n",
      "SB_CARRY inst1 (.I0(I0), .I1(I1), .CI(CIN), .CO(inst1_CO));\n",
      "assign O = inst0_O;\n",
      "assign COUT = inst1_CO;\n",
      "endmodule\n",
      "\n",
      "module AdderCout4 (input [3:0] I0, input [3:0] I1, output [3:0] O, output  COUT);\n",
      "wire  inst0_O;\n",
      "wire  inst0_COUT;\n",
      "wire  inst1_O;\n",
      "wire  inst1_COUT;\n",
      "wire  inst2_O;\n",
      "wire  inst2_COUT;\n",
      "wire  inst3_O;\n",
      "wire  inst3_COUT;\n",
      "FullAdder inst0 (.I0(I0[0]), .I1(I1[0]), .CIN(1'b0), .O(inst0_O), .COUT(inst0_COUT));\n",
      "FullAdder inst1 (.I0(I0[1]), .I1(I1[1]), .CIN(inst0_COUT), .O(inst1_O), .COUT(inst1_COUT));\n",
      "FullAdder inst2 (.I0(I0[2]), .I1(I1[2]), .CIN(inst1_COUT), .O(inst2_O), .COUT(inst2_COUT));\n",
      "FullAdder inst3 (.I0(I0[3]), .I1(I1[3]), .CIN(inst2_COUT), .O(inst3_O), .COUT(inst3_COUT));\n",
      "assign O = {inst3_O,inst2_O,inst1_O,inst0_O};\n",
      "assign COUT = inst3_COUT;\n",
      "endmodule\n",
      "\n",
      "module Register4 (input [3:0] I, output [3:0] O, input  CLK);\n",
      "wire  inst0_Q;\n",
      "wire  inst1_Q;\n",
      "wire  inst2_Q;\n",
      "wire  inst3_Q;\n",
      "SB_DFF inst0 (.C(CLK), .D(I[0]), .Q(inst0_Q));\n",
      "SB_DFF inst1 (.C(CLK), .D(I[1]), .Q(inst1_Q));\n",
      "SB_DFF inst2 (.C(CLK), .D(I[2]), .Q(inst2_Q));\n",
      "SB_DFF inst3 (.C(CLK), .D(I[3]), .Q(inst3_Q));\n",
      "assign O = {inst3_Q,inst2_Q,inst1_Q,inst0_Q};\n",
      "endmodule\n",
      "\n",
      "module Counter4False (output [3:0] O, output  COUT, input  CLK);\n",
      "wire [3:0] inst0_O;\n",
      "wire  inst0_COUT;\n",
      "wire [3:0] inst1_O;\n",
      "AdderCout4 inst0 (.I0(inst1_O), .I1({1'b0,1'b0,1'b0,1'b1}), .O(inst0_O), .COUT(inst0_COUT));\n",
      "Register4 inst1 (.I(inst0_O), .O(inst1_O), .CLK(CLK));\n",
      "assign O = inst1_O;\n",
      "assign COUT = inst0_COUT;\n",
      "endmodule\n",
      "\n",
      "\n"
     ]
    }
   ],
   "source": [
    "from magma.backend.verilog import compile as compile_verilog\n",
    "print(compile_verilog(DefineCounter(4)))"
   ]
  },
  {
   "cell_type": "markdown",
   "metadata": {},
   "source": [
    "To test our counter circuit, we will instance two versions. A 5-bit counter will be wired up to the icestick leds. Because the icestick clock runs to fast to see without a high-speed camera, we will wire up the carry out of a 23-bit counter to the clock enable of our 5-bit counter. This causes the 5-bit counter to advance slower (the clock enable will be asserted True for 1 cycle every time the 23-bit counter reaches it's maximum value)."
   ]
  },
  {
   "cell_type": "code",
   "execution_count": 4,
   "metadata": {
    "scrolled": true
   },
   "outputs": [],
   "source": [
    "icestick = IceStick()\n",
    "\n",
    "icestick.Clock.on()\n",
    "icestick.D1.on()\n",
    "icestick.D2.on()\n",
    "icestick.D3.on()\n",
    "icestick.D4.on()\n",
    "icestick.D5.on()\n",
    "\n",
    "main = icestick.main()\n",
    "\n",
    "counter4 = DefineCounter(5, has_ce=True)()\n",
    "counter23 = DefineCounter(23)()\n",
    "m.wire(counter23.COUT, counter4.CE)\n",
    "m.wire(counter4.O, [main.D1, main.D2, main.D3, main.D4, main.D5])"
   ]
  },
  {
   "cell_type": "markdown",
   "metadata": {},
   "source": [
    "Compile and flash our design onto the icestick. The leds should blink in a 5-bit counter pattern. Change the size of the 23-bit control counter or replace it with a different circuit to experiment with the counting pattern."
   ]
  },
  {
   "cell_type": "code",
   "execution_count": 5,
   "metadata": {
    "scrolled": true
   },
   "outputs": [
    {
     "name": "stdout",
     "output_type": "stream",
     "text": [
      "compiling FullAdder\n",
      "compiling AdderCout5\n",
      "compiling Register5CE\n",
      "compiling Counter5True\n",
      "compiling AdderCout23\n",
      "compiling Register23\n",
      "compiling Counter23False\n",
      "compiling main\n"
     ]
    }
   ],
   "source": [
    "m.compile(\"build/ice_counter\", main)"
   ]
  },
  {
   "cell_type": "code",
   "execution_count": 6,
   "metadata": {},
   "outputs": [
    {
     "name": "stderr",
     "output_type": "stream",
     "text": [
      "init..\n",
      "cdone: high\n",
      "reset..\n",
      "cdone: low\n",
      "flash ID: 0x20 0xBA 0x16 0x10 0x00 0x00 0x23 0x51 0x73 0x10 0x23 0x00 0x35 0x00 0x35 0x06 0x06 0x15 0x43 0xB6\n",
      "file size: 32220\n",
      "erase 64kB sector at 0x000000..\n",
      "programming..\n",
      "reading..\n",
      "VERIFY OK\n",
      "cdone: high\n",
      "Bye.\n"
     ]
    }
   ],
   "source": [
    "%%bash\n",
    "cd build\n",
    "yosys -q -p 'synth_ice40 -top main -blif ice_counter.blif' ice_counter.v\n",
    "arachne-pnr -q -d 1k -o ice_counter.txt -p ice_counter.pcf ice_counter.blif\n",
    "icepack ice_counter.txt ice_counter.bin\n",
    "\n",
    "iceprog ice_counter.bin"
   ]
  }
 ],
 "metadata": {
  "kernelspec": {
   "display_name": "Python 3",
   "language": "python",
   "name": "python3"
  },
  "language_info": {
   "codemirror_mode": {
    "name": "ipython",
    "version": 3
   },
   "file_extension": ".py",
   "mimetype": "text/x-python",
   "name": "python",
   "nbconvert_exporter": "python",
   "pygments_lexer": "ipython3",
   "version": "3.6.2"
  }
 },
 "nbformat": 4,
 "nbformat_minor": 2
}
