{
 "cells": [
  {
   "cell_type": "code",
   "execution_count": null,
   "metadata": {},
   "outputs": [
    {
     "name": "stdout",
     "output_type": "stream",
     "text": [
      "import mantle lattice ice40\n"
     ]
    }
   ],
   "source": [
    "import magma as m\n",
    "from loam.boards.icestick import IceStick"
   ]
  },
  {
   "cell_type": "markdown",
   "metadata": {},
   "source": [
    "![](./images/counter_diagram.jpg)"
   ]
  },
  {
   "cell_type": "markdown",
   "metadata": {},
   "source": [
    "We will use the `DefineCircuit` pattern to define a counter module.\n",
    "\n",
    "`DefineCircuit` takes as a firt argument the name of the circuit, and then an even number of arguments of the form `port1_name, port1_type, port2_name, port2_type, ...`. By using the python `*` operator, we can programmatically construct a list of argument names and types.\n",
    "\n",
    "For this example we compose a list literal with the output of the `ClockInterface` function which produces a standard set of inputs for a clock, clock enable, and reset. In this case, we only include a clock (by default) and an optional clock enable `has_ce=has_ce`.\n",
    "\n",
    "We instance an n-bit `Adders` and `Register` from the `mantle` library. We wire them up based on our counter diagram above. Finally, we call `m.wireclock` to automatically wire up the clock inputs to the `Register` instance."
   ]
  },
  {
   "cell_type": "code",
   "execution_count": null,
   "metadata": {},
   "outputs": [],
   "source": [
    "from mantle import Add, Register\n",
    "\n",
    "\n",
    "def DefineCounter(n, has_ce=False):\n",
    "\n",
    "    name = \"Counter{}{}\".format(n, has_ce)\n",
    "\n",
    "    args = [\"O\", m.Out(m.Bits(n)), \"COUT\", m.Out(m.Bit)] + m.ClockInterface(has_ce=has_ce)\n",
    "    Counter = m.DefineCircuit(name, *args)\n",
    "\n",
    "    add = Add(n, cin=False, cout=True)\n",
    "    reg = Register(n, has_ce=has_ce)\n",
    "\n",
    "    m.wire( reg.O, add.I0 )\n",
    "    m.wire( m.bits(1, n), add.I1 )\n",
    "\n",
    "    m.wire(add.O, reg.I)\n",
    "\n",
    "    m.wire( reg.O, Counter.O )\n",
    "\n",
    "    m.wire( add.COUT, Counter.COUT )\n",
    "\n",
    "    m.wireclock(Counter, reg)\n",
    "    m.wiredefaultclock(Counter, reg)\n",
    "\n",
    "    m.EndDefine()\n",
    "    print(repr(Counter))\n",
    "    return Counter"
   ]
  },
  {
   "cell_type": "markdown",
   "metadata": {},
   "source": [
    "We can inspect the generated verilog"
   ]
  },
  {
   "cell_type": "code",
   "execution_count": null,
   "metadata": {},
   "outputs": [],
   "source": [
    "from magma.backend.verilog import compile as compile_verilog\n",
    "print(compile_verilog(DefineCounter(4)))"
   ]
  },
  {
   "cell_type": "markdown",
   "metadata": {},
   "source": [
    "To test our counter circuit, we will instance two versions. A 5-bit counter will be wired up to the icestick leds. Because the icestick clock runs too fast to see without a high-speed camera, we will wire up the carry out of a 23-bit counter to the clock enable of our 5-bit counter. This causes the 5-bit counter to advance slower (the clock enable will be asserted True for 1 cycle every time the 23-bit counter reaches it's maximum value)."
   ]
  },
  {
   "cell_type": "code",
   "execution_count": null,
   "metadata": {
    "scrolled": true
   },
   "outputs": [],
   "source": [
    "icestick = IceStick()\n",
    "\n",
    "icestick.Clock.on()\n",
    "icestick.D1.on()\n",
    "icestick.D2.on()\n",
    "icestick.D3.on()\n",
    "icestick.D4.on()\n",
    "icestick.D5.on()\n",
    "\n",
    "main = icestick.main()\n",
    "\n",
    "counter4 = DefineCounter(5, has_ce=True)()\n",
    "counter23 = DefineCounter(23)()\n",
    "m.wire(counter23.COUT, counter4.CE)\n",
    "m.wire(counter4.O, m.bits([main.D1, main.D2, main.D3, main.D4, main.D5]))\n",
    "print(repr(main))"
   ]
  },
  {
   "cell_type": "markdown",
   "metadata": {},
   "source": [
    "Compile and flash our design onto the icestick. The leds should blink in a 5-bit counter pattern. Change the size of the 23-bit control counter or replace it with a different circuit to experiment with the counting pattern."
   ]
  },
  {
   "cell_type": "code",
   "execution_count": null,
   "metadata": {
    "scrolled": true
   },
   "outputs": [],
   "source": [
    "m.compile(\"build/ice_counter\", main)"
   ]
  },
  {
   "cell_type": "code",
   "execution_count": null,
   "metadata": {},
   "outputs": [],
   "source": [
    "%%bash\n",
    "cd build\n",
    "yosys -q -p 'synth_ice40 -top main -blif ice_counter.blif' ice_counter.v\n",
    "arachne-pnr -q -d 1k -o ice_counter.txt -p ice_counter.pcf ice_counter.blif\n",
    "icepack ice_counter.txt ice_counter.bin\n",
    "\n",
    "iceprog ice_counter.bin"
   ]
  }
 ],
 "metadata": {
  "kernelspec": {
   "display_name": "Python 3",
   "language": "python",
   "name": "python3"
  },
  "language_info": {
   "codemirror_mode": {
    "name": "ipython",
    "version": 3
   },
   "file_extension": ".py",
   "mimetype": "text/x-python",
   "name": "python",
   "nbconvert_exporter": "python",
   "pygments_lexer": "ipython3",
   "version": "3.6.1"
  }
 },
 "nbformat": 4,
 "nbformat_minor": 2
}
