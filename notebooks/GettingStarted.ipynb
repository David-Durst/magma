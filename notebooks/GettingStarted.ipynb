{
 "cells": [
  {
   "cell_type": "markdown",
   "metadata": {},
   "source": [
    "# Gettting Started with Magma and Mantle\n",
    "\n",
    "Magma programs are written in python. \n",
    "There are two aspects to designing hardware using Magma.\n",
    "First, functional units are created in hardware.\n",
    "Second, the functional units are wired up to create circuits.\n",
    "We create the circuit in Magma,\n",
    "then download it to the FPGA.\n",
    "\n",
    "Here is a basic Magma program that blinks an LED once per second."
   ]
  },
  {
   "cell_type": "code",
   "execution_count": 1,
   "metadata": {},
   "outputs": [
    {
     "name": "stdout",
     "output_type": "stream",
     "text": [
      "import mantle lattice ice40\n",
      "import mantle lattice mantle40\n",
      "inst0\n",
      "inst0 = Counter32()\n"
     ]
    }
   ],
   "source": [
    "import os\n",
    "os.environ['MANTLE'] = 'lattice'\n",
    "import sys\n",
    "from magma import *\n",
    "from mantle import *\n",
    "from loam.boards.icestick import IceStick\n",
    "\n",
    "icestick = IceStick()\n",
    "icestick.Clock.on()\n",
    "icestick.D5.on()\n",
    "\n",
    "main = icestick.main()\n",
    "counter = Counter(32)\n",
    "EndCircuit()\n",
    "\n",
    "print(counter)\n",
    "print(repr(counter))"
   ]
  },
  {
   "cell_type": "code",
   "execution_count": null,
   "metadata": {
    "collapsed": true
   },
   "outputs": [],
   "source": []
  }
 ],
 "metadata": {
  "kernelspec": {
   "display_name": "Python 3",
   "language": "python",
   "name": "python3"
  },
  "language_info": {
   "codemirror_mode": {
    "name": "ipython",
    "version": 3
   },
   "file_extension": ".py",
   "mimetype": "text/x-python",
   "name": "python",
   "nbconvert_exporter": "python",
   "pygments_lexer": "ipython3",
   "version": "3.6.2"
  }
 },
 "nbformat": 4,
 "nbformat_minor": 2
}
