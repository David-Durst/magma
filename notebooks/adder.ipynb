{
 "cells": [
  {
   "cell_type": "code",
   "execution_count": 1,
   "metadata": {},
   "outputs": [],
   "source": [
    "import sys\n",
    "sys.path.append(\"../examples\")\n",
    "from full_adder import FullAdder"
   ]
  },
  {
   "cell_type": "code",
   "execution_count": 2,
   "metadata": {
    "collapsed": true
   },
   "outputs": [],
   "source": [
    "from magma import *\n",
    "\n",
    "def DefineAdder(N):\n",
    "    T = UInt(N)\n",
    "    class Adder(Circuit):\n",
    "        name = \"Adder{}\".format(N)\n",
    "        IO = [\"a\", In(T), \"b\", In(T), \"cin\", In(Bit), \"out\", Out(T), \"cout\", Out(Bit)]\n",
    "        @classmethod\n",
    "        def definition(io):\n",
    "            adders = [FullAdder() for _ in range(N)]\n",
    "            circ = braid(adders, foldargs={\"cin\":\"cout\"})\n",
    "            wire(io.a, circ.a)\n",
    "            wire(io.b, circ.b)\n",
    "            wire(io.cin, circ.cin)\n",
    "            wire(io.cout, circ.cout)\n",
    "            wire(io.out, circ.out)\n",
    "    return Adder"
   ]
  },
  {
   "cell_type": "code",
   "execution_count": 3,
   "metadata": {},
   "outputs": [
    {
     "name": "stdout",
     "output_type": "stream",
     "text": [
      "Success!\n"
     ]
    }
   ],
   "source": [
    "from magma.python_simulator import PythonSimulator\n",
    "from magma.scope import Scope\n",
    "from magma.bit_vector import BitVector\n",
    "\n",
    "Adder4 = DefineAdder(4)\n",
    "simulator = PythonSimulator(Adder4)\n",
    "scope = Scope()\n",
    "simulator.set_value(Adder4.a, scope, BitVector(2, num_bits=4).as_bool_list())\n",
    "simulator.set_value(Adder4.b, scope, BitVector(3, num_bits=4).as_bool_list())\n",
    "simulator.set_value(Adder4.cin, scope, True)\n",
    "simulator.evaluate()\n",
    "assert simulator.get_value(Adder4.out, scope) == int2seq(6, 4)\n",
    "assert simulator.get_value(Adder4.cout, scope) == False\n",
    "print(\"Success!\")"
   ]
  },
  {
   "cell_type": "code",
   "execution_count": null,
   "metadata": {
    "collapsed": true
   },
   "outputs": [],
   "source": []
  }
 ],
 "metadata": {
  "kernelspec": {
   "display_name": "Python 3",
   "language": "python",
   "name": "python3"
  },
  "language_info": {
   "codemirror_mode": {
    "name": "ipython",
    "version": 3
   },
   "file_extension": ".py",
   "mimetype": "text/x-python",
   "name": "python",
   "nbconvert_exporter": "python",
   "pygments_lexer": "ipython3",
   "version": "3.6.2"
  }
 },
 "nbformat": 4,
 "nbformat_minor": 2
}
